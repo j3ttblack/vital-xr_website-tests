{
 "cells": [
  {
   "cell_type": "code",
   "execution_count": 69,
   "metadata": {},
   "outputs": [],
   "source": [
    "from selenium.webdriver.common.by import By\n",
    "from selenium import webdriver\n",
    "from selenium.webdriver.common.keys import Keys\n",
    "import time\n",
    "\n",
    "base_url = 'https://j3ttblack.github.io/vital-xr/'\n",
    "chromedriver_path = '../'\n",
    "\n",
    "def make_driver():\n",
    "    # specify the path of the chromedriver executable\n",
    "    return webdriver.Chrome(chromedriver_path + 'chromedriver')\n"
   ]
  },
  {
   "cell_type": "code",
   "execution_count": 70,
   "metadata": {},
   "outputs": [],
   "source": [
    "total_num_tests = 0\n",
    "total_pass_tests = 0\n",
    "failed_test_messages = []"
   ]
  },
  {
   "cell_type": "code",
   "execution_count": 71,
   "metadata": {},
   "outputs": [
    {
     "name": "stderr",
     "output_type": "stream",
     "text": [
      "/var/folders/cc/yk8c4hlx755dh0mtknk66z1w0000gn/T/ipykernel_28152/3620981420.py:11: DeprecationWarning: executable_path has been deprecated, please pass in a Service object\n",
      "  return webdriver.Chrome(chromedriver_path + 'chromedriver')\n"
     ]
    }
   ],
   "source": [
    "def test_default_navigation():\n",
    "    global total_num_tests, failed_test_messages\n",
    "    total_num_tests += 1\n",
    "    test_pass = False\n",
    "\n",
    "    # navigate to the website\n",
    "    driver = make_driver()\n",
    "    driver.get(base_url)\n",
    "\n",
    "    # check if the page has loaded successfully\n",
    "    if driver.current_url == base_url + 'home':\n",
    "        test_pass = True\n",
    "    else:\n",
    "        failed_test_messages.append('test default navigation has failed')\n",
    "\n",
    "    # close the browser window\n",
    "    driver.close()\n",
    "    return test_pass\n",
    "\n",
    "try:\n",
    "    if test_default_navigation():\n",
    "        total_pass_tests += 1\n",
    "except:\n",
    "    pass\n"
   ]
  },
  {
   "cell_type": "code",
   "execution_count": 72,
   "metadata": {},
   "outputs": [
    {
     "name": "stderr",
     "output_type": "stream",
     "text": [
      "/var/folders/cc/yk8c4hlx755dh0mtknk66z1w0000gn/T/ipykernel_28152/3620981420.py:11: DeprecationWarning: executable_path has been deprecated, please pass in a Service object\n",
      "  return webdriver.Chrome(chromedriver_path + 'chromedriver')\n"
     ]
    }
   ],
   "source": [
    "def test_image_home_navigation():\n",
    "    global total_num_tests, failed_test_messages\n",
    "    total_num_tests += 1\n",
    "    test_pass = False\n",
    "\n",
    "    # navigate to the website\n",
    "    driver = make_driver()\n",
    "    driver.get(base_url)\n",
    "\n",
    "    # find the HTML element and click it\n",
    "    element = driver.find_element(By.XPATH, '//img[@class=\"home_img\"]')\n",
    "    element.click()\n",
    "\n",
    "    # check if the page has loaded successfully\n",
    "    if driver.current_url == base_url + 'home':\n",
    "        test_pass = True\n",
    "    else:\n",
    "        failed_test_messages.append('test image home navigation navigation has failed')\n",
    "\n",
    "    # close the browser window\n",
    "    driver.close()\n",
    "    return test_pass\n",
    "\n",
    "try:\n",
    "    if test_image_home_navigation():\n",
    "        total_pass_tests += 1\n",
    "except:\n",
    "    pass\n"
   ]
  },
  {
   "cell_type": "code",
   "execution_count": 73,
   "metadata": {},
   "outputs": [
    {
     "name": "stderr",
     "output_type": "stream",
     "text": [
      "/var/folders/cc/yk8c4hlx755dh0mtknk66z1w0000gn/T/ipykernel_28152/3620981420.py:11: DeprecationWarning: executable_path has been deprecated, please pass in a Service object\n",
      "  return webdriver.Chrome(chromedriver_path + 'chromedriver')\n"
     ]
    }
   ],
   "source": [
    "def test_about_navigation():\n",
    "    global total_num_tests, failed_test_messages\n",
    "    total_num_tests += 1\n",
    "    test_pass = False\n",
    "\n",
    "    # navigate to the website\n",
    "    driver = make_driver()\n",
    "    driver.get(base_url)\n",
    "\n",
    "    # find the HTML element and click it\n",
    "    element = driver.find_element(By.XPATH, '//a[@href=\"/vital-xr/about\"]')\n",
    "    element.click()\n",
    "\n",
    "    # check if the page has loaded successfully\n",
    "    if driver.current_url == base_url + 'about':\n",
    "        test_pass = True\n",
    "    else:\n",
    "        failed_test_messages.append('test about navigation has failed')\n",
    "\n",
    "    # close the browser window\n",
    "    driver.close()\n",
    "    return test_pass\n",
    "\n",
    "try:\n",
    "    if test_about_navigation():\n",
    "        total_pass_tests += 1\n",
    "except:\n",
    "    pass"
   ]
  },
  {
   "cell_type": "code",
   "execution_count": 74,
   "metadata": {},
   "outputs": [
    {
     "name": "stderr",
     "output_type": "stream",
     "text": [
      "/var/folders/cc/yk8c4hlx755dh0mtknk66z1w0000gn/T/ipykernel_28152/3620981420.py:11: DeprecationWarning: executable_path has been deprecated, please pass in a Service object\n",
      "  return webdriver.Chrome(chromedriver_path + 'chromedriver')\n"
     ]
    }
   ],
   "source": [
    "def test_project_navigation():\n",
    "    global total_num_tests, failed_test_messages\n",
    "    total_num_tests += 1\n",
    "    test_pass = False\n",
    "\n",
    "    # navigate to the website\n",
    "    driver = make_driver()\n",
    "    driver.get(base_url)\n",
    "\n",
    "    # find the HTML element and click it\n",
    "    element = driver.find_element(By.XPATH, '//a[@href=\"/vital-xr/project\"]')\n",
    "    element.click()\n",
    "\n",
    "    # check if the page has loaded successfully\n",
    "    if driver.current_url == base_url + 'project':\n",
    "        test_pass = True\n",
    "    else:\n",
    "        failed_test_messages.append('test project navigation has failed')\n",
    "\n",
    "    # close the browser window\n",
    "    driver.close()\n",
    "    return test_pass\n",
    "\n",
    "try:\n",
    "    if test_project_navigation():\n",
    "        total_pass_tests += 1\n",
    "except:\n",
    "    pass"
   ]
  },
  {
   "cell_type": "code",
   "execution_count": 75,
   "metadata": {},
   "outputs": [
    {
     "name": "stderr",
     "output_type": "stream",
     "text": [
      "/var/folders/cc/yk8c4hlx755dh0mtknk66z1w0000gn/T/ipykernel_28152/3620981420.py:11: DeprecationWarning: executable_path has been deprecated, please pass in a Service object\n",
      "  return webdriver.Chrome(chromedriver_path + 'chromedriver')\n"
     ]
    }
   ],
   "source": [
    "def test_project_video():\n",
    "    global total_num_tests, failed_test_messages\n",
    "    total_num_tests += 1\n",
    "    test_pass = False\n",
    "\n",
    "    # navigate to the website\n",
    "    driver = make_driver()\n",
    "    driver.get(base_url + 'project')\n",
    "\n",
    "    # find the video element and click it\n",
    "    element = driver.find_element(By.XPATH, '//video[@poster=\"assets/intubation_promo_video_poster.png\"]')\n",
    "    element.click()\n",
    "\n",
    "    # wait for the video to start playing\n",
    "    time.sleep(10)\n",
    "\n",
    "    # check if the video is playing\n",
    "    if driver.execute_script('return document.getElementsByTagName(\"video\")[0].paused') == False:\n",
    "        test_pass = True\n",
    "    else:\n",
    "        failed_test_messages.append('test project video playing has failed')\n",
    "\n",
    "    # close the browser window\n",
    "    driver.close()\n",
    "    return test_pass\n",
    "\n",
    "try:\n",
    "    if test_project_video():\n",
    "        total_pass_tests += 1\n",
    "except:\n",
    "    pass"
   ]
  },
  {
   "cell_type": "code",
   "execution_count": 76,
   "metadata": {},
   "outputs": [],
   "source": [
    "# test news navigation"
   ]
  },
  {
   "cell_type": "code",
   "execution_count": 77,
   "metadata": {},
   "outputs": [],
   "source": [
    "# test news read more"
   ]
  },
  {
   "cell_type": "code",
   "execution_count": 78,
   "metadata": {},
   "outputs": [],
   "source": [
    "# test contact navigation"
   ]
  },
  {
   "cell_type": "code",
   "execution_count": 79,
   "metadata": {},
   "outputs": [],
   "source": [
    "# test that you can submit contacts (state change)"
   ]
  },
  {
   "cell_type": "code",
   "execution_count": null,
   "metadata": {},
   "outputs": [],
   "source": [
    "# test signup navigation"
   ]
  },
  {
   "cell_type": "code",
   "execution_count": null,
   "metadata": {},
   "outputs": [],
   "source": [
    "# test signup navigation state change on submit"
   ]
  },
  {
   "cell_type": "code",
   "execution_count": null,
   "metadata": {},
   "outputs": [],
   "source": [
    "# test signup actually propagates changes"
   ]
  },
  {
   "cell_type": "code",
   "execution_count": null,
   "metadata": {},
   "outputs": [],
   "source": [
    "# test login navigation (to login page)"
   ]
  },
  {
   "cell_type": "code",
   "execution_count": 82,
   "metadata": {},
   "outputs": [
    {
     "name": "stderr",
     "output_type": "stream",
     "text": [
      "/var/folders/cc/yk8c4hlx755dh0mtknk66z1w0000gn/T/ipykernel_28152/3620981420.py:11: DeprecationWarning: executable_path has been deprecated, please pass in a Service object\n",
      "  return webdriver.Chrome(chromedriver_path + 'chromedriver')\n"
     ]
    }
   ],
   "source": [
    "def test_login_navigation():\n",
    "    global total_num_tests, failed_test_messages\n",
    "    total_num_tests += 1\n",
    "    test_pass = False\n",
    "\n",
    "    # navigate to the website\n",
    "    driver = make_driver()\n",
    "    driver.get(base_url)\n",
    "\n",
    "    # find the HTML element and click it\n",
    "    element = driver.find_element(By.XPATH, '//a[@href=\"/vital-xr/login\"]')\n",
    "    element.click()\n",
    "\n",
    "    # check if the page has loaded successfully\n",
    "    if driver.current_url == base_url + 'login':\n",
    "        test_pass = True\n",
    "    else:\n",
    "        failed_test_messages.append('test login navigation has failed')\n",
    "\n",
    "    # close the browser windo\n",
    "    driver.close()\n",
    "    return test_pass\n",
    "\n",
    "try:\n",
    "    if test_login_navigation():\n",
    "        total_pass_tests += 1\n",
    "except:\n",
    "    pass"
   ]
  },
  {
   "cell_type": "code",
   "execution_count": null,
   "metadata": {},
   "outputs": [],
   "source": [
    "# test login 'here for the first time'"
   ]
  },
  {
   "cell_type": "code",
   "execution_count": null,
   "metadata": {},
   "outputs": [],
   "source": [
    "# test login sign-in navigate to portal"
   ]
  },
  {
   "cell_type": "code",
   "execution_count": null,
   "metadata": {},
   "outputs": [],
   "source": [
    "# test logout appears after you login"
   ]
  },
  {
   "cell_type": "code",
   "execution_count": null,
   "metadata": {},
   "outputs": [],
   "source": [
    "# test logout button logs you out"
   ]
  },
  {
   "cell_type": "code",
   "execution_count": null,
   "metadata": {},
   "outputs": [],
   "source": [
    "# test logging in with vital xr credentials makes the vital xr portal"
   ]
  },
  {
   "cell_type": "code",
   "execution_count": null,
   "metadata": {},
   "outputs": [],
   "source": [
    "# test logging in with org admin credentials makes the org admin portal appear"
   ]
  },
  {
   "cell_type": "code",
   "execution_count": null,
   "metadata": {},
   "outputs": [],
   "source": [
    "# test logging in with user credentials makes the user portal appear"
   ]
  },
  {
   "cell_type": "code",
   "execution_count": 80,
   "metadata": {},
   "outputs": [
    {
     "name": "stdout",
     "output_type": "stream",
     "text": [
      "Total tests:  5\n",
      "Pass tests:  4\n",
      "\n",
      "--------\n",
      "test default navigation has failed\n"
     ]
    }
   ],
   "source": [
    "print('Total tests: ', total_num_tests)\n",
    "print('Pass tests: ', total_pass_tests)\n",
    "\n",
    "print('\\n--------')\n",
    "for i in failed_test_messages:\n",
    "    print(i)"
   ]
  },
  {
   "cell_type": "code",
   "execution_count": null,
   "metadata": {},
   "outputs": [],
   "source": []
  }
 ],
 "metadata": {
  "kernelspec": {
   "display_name": "Python 3",
   "language": "python",
   "name": "python3"
  },
  "language_info": {
   "codemirror_mode": {
    "name": "ipython",
    "version": 3
   },
   "file_extension": ".py",
   "mimetype": "text/x-python",
   "name": "python",
   "nbconvert_exporter": "python",
   "pygments_lexer": "ipython3",
   "version": "3.10.4"
  },
  "orig_nbformat": 4
 },
 "nbformat": 4,
 "nbformat_minor": 2
}
