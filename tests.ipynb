{
 "cells": [
  {
   "cell_type": "code",
   "execution_count": 1,
   "metadata": {},
   "outputs": [],
   "source": [
    "from selenium.webdriver.common.by import By\n",
    "from selenium import webdriver\n",
    "from selenium.webdriver.common.keys import Keys\n",
    "import time\n",
    "\n",
    "base_url = 'https://j3ttblack.github.io/vital-xr/'\n",
    "chromedriver_path = '../'\n",
    "\n",
    "def make_driver():\n",
    "    # specify the path of the chromedriver executable\n",
    "    return webdriver.Chrome(chromedriver_path + 'chromedriver')\n"
   ]
  },
  {
   "cell_type": "code",
   "execution_count": 2,
   "metadata": {},
   "outputs": [],
   "source": [
    "total_num_tests = 0\n",
    "total_pass_tests = 0\n",
    "failed_test_messages = []"
   ]
  },
  {
   "cell_type": "code",
   "execution_count": 3,
   "metadata": {},
   "outputs": [
    {
     "name": "stderr",
     "output_type": "stream",
     "text": [
      "/var/folders/cc/yk8c4hlx755dh0mtknk66z1w0000gn/T/ipykernel_31471/3620981420.py:11: DeprecationWarning: executable_path has been deprecated, please pass in a Service object\n",
      "  return webdriver.Chrome(chromedriver_path + 'chromedriver')\n"
     ]
    }
   ],
   "source": [
    "def test_default_navigation():\n",
    "    global total_num_tests, failed_test_messages\n",
    "    total_num_tests += 1\n",
    "    test_pass = False\n",
    "\n",
    "    # navigate to the website\n",
    "    driver = make_driver()\n",
    "    driver.get(base_url)\n",
    "\n",
    "    # check if the page has loaded successfully\n",
    "    if driver.current_url == base_url + 'home':\n",
    "        test_pass = True\n",
    "    else:\n",
    "        failed_test_messages.append('test default navigation has failed')\n",
    "\n",
    "    # close the browser window\n",
    "    driver.close()\n",
    "    return test_pass\n",
    "\n",
    "try:\n",
    "    if test_default_navigation():\n",
    "        total_pass_tests += 1\n",
    "except:\n",
    "    pass\n"
   ]
  },
  {
   "cell_type": "code",
   "execution_count": 4,
   "metadata": {},
   "outputs": [
    {
     "name": "stderr",
     "output_type": "stream",
     "text": [
      "/var/folders/cc/yk8c4hlx755dh0mtknk66z1w0000gn/T/ipykernel_31471/3620981420.py:11: DeprecationWarning: executable_path has been deprecated, please pass in a Service object\n",
      "  return webdriver.Chrome(chromedriver_path + 'chromedriver')\n"
     ]
    }
   ],
   "source": [
    "def test_image_home_navigation():\n",
    "    global total_num_tests, failed_test_messages\n",
    "    total_num_tests += 1\n",
    "    test_pass = False\n",
    "\n",
    "    # navigate to the website\n",
    "    driver = make_driver()\n",
    "    driver.get(base_url)\n",
    "\n",
    "    # find the HTML element and click it\n",
    "    element = driver.find_element(By.XPATH, '//img[@class=\"home_img\"]')\n",
    "    element.click()\n",
    "\n",
    "    # check if the page has loaded successfully\n",
    "    if driver.current_url == base_url + 'home':\n",
    "        test_pass = True\n",
    "    else:\n",
    "        failed_test_messages.append('test image home navigation navigation has failed')\n",
    "\n",
    "    # close the browser window\n",
    "    driver.close()\n",
    "    return test_pass\n",
    "\n",
    "try:\n",
    "    if test_image_home_navigation():\n",
    "        total_pass_tests += 1\n",
    "except:\n",
    "    pass\n"
   ]
  },
  {
   "cell_type": "code",
   "execution_count": 5,
   "metadata": {},
   "outputs": [
    {
     "name": "stderr",
     "output_type": "stream",
     "text": [
      "/var/folders/cc/yk8c4hlx755dh0mtknk66z1w0000gn/T/ipykernel_31471/3620981420.py:11: DeprecationWarning: executable_path has been deprecated, please pass in a Service object\n",
      "  return webdriver.Chrome(chromedriver_path + 'chromedriver')\n"
     ]
    }
   ],
   "source": [
    "def test_about_navigation():\n",
    "    global total_num_tests, failed_test_messages\n",
    "    total_num_tests += 1\n",
    "    test_pass = False\n",
    "\n",
    "    # navigate to the website\n",
    "    driver = make_driver()\n",
    "    driver.get(base_url)\n",
    "\n",
    "    # find the HTML element and click it\n",
    "    element = driver.find_element(By.XPATH, '//a[@href=\"/vital-xr/about\"]')\n",
    "    element.click()\n",
    "\n",
    "    # check if the page has loaded successfully\n",
    "    if driver.current_url == base_url + 'about':\n",
    "        test_pass = True\n",
    "    else:\n",
    "        failed_test_messages.append('test about navigation has failed')\n",
    "\n",
    "    # close the browser window\n",
    "    driver.close()\n",
    "    return test_pass\n",
    "\n",
    "try:\n",
    "    if test_about_navigation():\n",
    "        total_pass_tests += 1\n",
    "except:\n",
    "    pass"
   ]
  },
  {
   "cell_type": "code",
   "execution_count": 6,
   "metadata": {},
   "outputs": [
    {
     "name": "stderr",
     "output_type": "stream",
     "text": [
      "/var/folders/cc/yk8c4hlx755dh0mtknk66z1w0000gn/T/ipykernel_31471/3620981420.py:11: DeprecationWarning: executable_path has been deprecated, please pass in a Service object\n",
      "  return webdriver.Chrome(chromedriver_path + 'chromedriver')\n"
     ]
    }
   ],
   "source": [
    "def test_project_navigation():\n",
    "    global total_num_tests, failed_test_messages\n",
    "    total_num_tests += 1\n",
    "    test_pass = False\n",
    "\n",
    "    # navigate to the website\n",
    "    driver = make_driver()\n",
    "    driver.get(base_url)\n",
    "\n",
    "    # find the HTML element and click it\n",
    "    element = driver.find_element(By.XPATH, '//a[@href=\"/vital-xr/project\"]')\n",
    "    element.click()\n",
    "\n",
    "    # check if the page has loaded successfully\n",
    "    if driver.current_url == base_url + 'project':\n",
    "        test_pass = True\n",
    "    else:\n",
    "        failed_test_messages.append('test project navigation has failed')\n",
    "\n",
    "    # close the browser window\n",
    "    driver.close()\n",
    "    return test_pass\n",
    "\n",
    "try:\n",
    "    if test_project_navigation():\n",
    "        total_pass_tests += 1\n",
    "except:\n",
    "    pass"
   ]
  },
  {
   "cell_type": "code",
   "execution_count": 26,
   "metadata": {},
   "outputs": [
    {
     "name": "stderr",
     "output_type": "stream",
     "text": [
      "/var/folders/cc/yk8c4hlx755dh0mtknk66z1w0000gn/T/ipykernel_31471/3620981420.py:11: DeprecationWarning: executable_path has been deprecated, please pass in a Service object\n",
      "  return webdriver.Chrome(chromedriver_path + 'chromedriver')\n"
     ]
    }
   ],
   "source": [
    "def test_project_video():\n",
    "    global total_num_tests, failed_test_messages\n",
    "    total_num_tests += 1\n",
    "    test_pass = False\n",
    "\n",
    "    # navigate to the website\n",
    "    driver = make_driver()\n",
    "    driver.get(base_url + 'project')\n",
    "\n",
    "    # find the video element and click it\n",
    "    element = driver.find_element(By.XPATH, '//video[@poster=\"assets/intubation_promo_video_poster.png\"]')\n",
    "    element.click()\n",
    "\n",
    "    # wait for the video to start playing\n",
    "    time.sleep(10)\n",
    "\n",
    "    # check if the video is playing\n",
    "    if driver.execute_script('return document.getElementsByTagName(\"video\")[0].paused') == False:\n",
    "        test_pass = True\n",
    "    else:\n",
    "        failed_test_messages.append('test project video playing has failed')\n",
    "\n",
    "    # close the browser window\n",
    "    driver.close()\n",
    "    return test_pass\n",
    "\n",
    "try:\n",
    "    if test_project_video():\n",
    "        total_pass_tests += 1\n",
    "except:\n",
    "    pass"
   ]
  },
  {
   "cell_type": "code",
   "execution_count": 8,
   "metadata": {},
   "outputs": [],
   "source": [
    "# test news navigation"
   ]
  },
  {
   "cell_type": "code",
   "execution_count": 9,
   "metadata": {},
   "outputs": [],
   "source": [
    "# test news read more"
   ]
  },
  {
   "cell_type": "code",
   "execution_count": 10,
   "metadata": {},
   "outputs": [],
   "source": [
    "# test contact navigation"
   ]
  },
  {
   "cell_type": "code",
   "execution_count": 11,
   "metadata": {},
   "outputs": [],
   "source": [
    "# test that you can submit contacts (state change)"
   ]
  },
  {
   "cell_type": "code",
   "execution_count": 12,
   "metadata": {},
   "outputs": [],
   "source": [
    "# test signup navigation"
   ]
  },
  {
   "cell_type": "code",
   "execution_count": 13,
   "metadata": {},
   "outputs": [],
   "source": [
    "# test signup navigation state change on submit"
   ]
  },
  {
   "cell_type": "code",
   "execution_count": 14,
   "metadata": {},
   "outputs": [],
   "source": [
    "# test signup actually propagates changes"
   ]
  },
  {
   "cell_type": "code",
   "execution_count": 15,
   "metadata": {},
   "outputs": [],
   "source": [
    "# test login navigation (to login page)"
   ]
  },
  {
   "cell_type": "code",
   "execution_count": 16,
   "metadata": {},
   "outputs": [
    {
     "name": "stderr",
     "output_type": "stream",
     "text": [
      "/var/folders/cc/yk8c4hlx755dh0mtknk66z1w0000gn/T/ipykernel_31471/3620981420.py:11: DeprecationWarning: executable_path has been deprecated, please pass in a Service object\n",
      "  return webdriver.Chrome(chromedriver_path + 'chromedriver')\n"
     ]
    }
   ],
   "source": [
    "def test_login_navigation():\n",
    "    global total_num_tests, failed_test_messages\n",
    "    total_num_tests += 1\n",
    "    test_pass = False\n",
    "\n",
    "    # navigate to the website\n",
    "    driver = make_driver()\n",
    "    driver.get(base_url)\n",
    "\n",
    "    # find the HTML element and click it\n",
    "    element = driver.find_element(By.XPATH, '//a[@href=\"/vital-xr/login\"]')\n",
    "    element.click()\n",
    "\n",
    "    # check if the page has loaded successfully\n",
    "    if driver.current_url == base_url + 'login':\n",
    "        test_pass = True\n",
    "    else:\n",
    "        failed_test_messages.append('test login navigation has failed')\n",
    "\n",
    "    # close the browser window\n",
    "    driver.close()\n",
    "    return test_pass\n",
    "\n",
    "try:\n",
    "    if test_login_navigation():\n",
    "        total_pass_tests += 1\n",
    "except:\n",
    "    pass"
   ]
  },
  {
   "cell_type": "code",
   "execution_count": 17,
   "metadata": {},
   "outputs": [],
   "source": [
    "# test login 'here for the first time'"
   ]
  },
  {
   "cell_type": "code",
   "execution_count": 18,
   "metadata": {},
   "outputs": [],
   "source": [
    "# test incorrect username/password"
   ]
  },
  {
   "cell_type": "code",
   "execution_count": null,
   "metadata": {},
   "outputs": [],
   "source": [
    "# test google auth properly reroutes you"
   ]
  },
  {
   "cell_type": "code",
   "execution_count": 19,
   "metadata": {},
   "outputs": [
    {
     "name": "stderr",
     "output_type": "stream",
     "text": [
      "/var/folders/cc/yk8c4hlx755dh0mtknk66z1w0000gn/T/ipykernel_31471/3620981420.py:11: DeprecationWarning: executable_path has been deprecated, please pass in a Service object\n",
      "  return webdriver.Chrome(chromedriver_path + 'chromedriver')\n"
     ]
    }
   ],
   "source": [
    "vxr_username = 'wei.kang8775@gmail.com'\n",
    "vxr_password = 'Wei.kang321'\n",
    "\n",
    "def login_vxr(driver):\n",
    "    global vxr_username, vxr_password\n",
    "    driver.get(base_url + 'login')\n",
    "\n",
    "    # find the username and password fields and enter the respective values\n",
    "    username = driver.find_element(By.NAME, \"username\")\n",
    "    password = driver.find_element(By.NAME, \"pswd\")\n",
    "    submit_btn = driver.find_element(By.CLASS_NAME, \"btn\")\n",
    "\n",
    "    username.send_keys(vxr_username)\n",
    "    password.send_keys(vxr_password)\n",
    "\n",
    "    # click the submit button\n",
    "    submit_btn.click()\n",
    "\n",
    "    time.sleep(3)\n",
    "\n",
    "    # check if the page has loaded successfully\n",
    "    if driver.current_url == base_url + 'portal':\n",
    "        return True\n",
    "    return False\n",
    "\n",
    "def test_successful_login_navigation():\n",
    "    global total_num_tests, failed_test_messages, vxr_username, vxr_password\n",
    "    total_num_tests += 1\n",
    "    test_pass = False\n",
    "\n",
    "    # navigate to the website\n",
    "    driver = make_driver()\n",
    "    if login_vxr(driver):\n",
    "        test_pass = True\n",
    "    else:\n",
    "        failed_test_messages.append('test successful login navigation has failed')\n",
    "\n",
    "    # close the browser window\n",
    "    driver.close()\n",
    "    return test_pass\n",
    "\n",
    "try:\n",
    "    if test_successful_login_navigation():\n",
    "        total_pass_tests += 1\n",
    "except:\n",
    "    pass"
   ]
  },
  {
   "cell_type": "code",
   "execution_count": null,
   "metadata": {},
   "outputs": [],
   "source": [
    "# test that, when you are logged in, if you click the image, it routes you to portal and not home"
   ]
  },
  {
   "cell_type": "code",
   "execution_count": 20,
   "metadata": {},
   "outputs": [],
   "source": [
    "# test logout appears after you login"
   ]
  },
  {
   "cell_type": "code",
   "execution_count": 21,
   "metadata": {},
   "outputs": [],
   "source": [
    "# test logout button logs you out"
   ]
  },
  {
   "cell_type": "code",
   "execution_count": 34,
   "metadata": {},
   "outputs": [
    {
     "name": "stderr",
     "output_type": "stream",
     "text": [
      "/var/folders/cc/yk8c4hlx755dh0mtknk66z1w0000gn/T/ipykernel_31471/3620981420.py:11: DeprecationWarning: executable_path has been deprecated, please pass in a Service object\n",
      "  return webdriver.Chrome(chromedriver_path + 'chromedriver')\n"
     ]
    },
    {
     "name": "stdout",
     "output_type": "stream",
     "text": [
      "pass\n"
     ]
    }
   ],
   "source": [
    "def test_vxr_login_portal():\n",
    "    global total_num_tests, failed_test_messages, vxr_username, vxr_password\n",
    "    total_num_tests += 1\n",
    "    test_pass = False\n",
    "    logged_in = False\n",
    "\n",
    "    # navigate to the website\n",
    "    driver = make_driver()\n",
    "    if login_vxr(driver):\n",
    "        logged_in = True\n",
    "\n",
    "    if logged_in:\n",
    "\n",
    "        # Define the elements we hope to find\n",
    "        html_elements = ['New Organization', 'View Organizations', 'Delete Organization', 'Update Organizations', 'Approve Organizations']\n",
    "        \n",
    "        # Check that all elements exist in the page\n",
    "        for element in html_elements:\n",
    "            try:\n",
    "                driver.find_element(By.XPATH, '//button[@class=\"btn\" and contains(text(), \"' + element + '\")]')\n",
    "            except:\n",
    "                print(f\"Element '{element}' not found!\")\n",
    "                break\n",
    "        else:\n",
    "            test_pass = True\n",
    "\n",
    "    if not test_pass:\n",
    "        failed_test_messages.append('test vxr login portal has failed')\n",
    "\n",
    "    # close the browser window\n",
    "    driver.close()\n",
    "    return test_pass\n",
    "\n",
    "try:\n",
    "    if test_vxr_login_portal():\n",
    "        total_pass_tests += 1\n",
    "except:\n",
    "    pass"
   ]
  },
  {
   "cell_type": "code",
   "execution_count": null,
   "metadata": {},
   "outputs": [],
   "source": [
    "# all vxr functionality"
   ]
  },
  {
   "cell_type": "code",
   "execution_count": 36,
   "metadata": {},
   "outputs": [
    {
     "name": "stderr",
     "output_type": "stream",
     "text": [
      "/var/folders/cc/yk8c4hlx755dh0mtknk66z1w0000gn/T/ipykernel_31471/3620981420.py:11: DeprecationWarning: executable_path has been deprecated, please pass in a Service object\n",
      "  return webdriver.Chrome(chromedriver_path + 'chromedriver')\n"
     ]
    },
    {
     "name": "stdout",
     "output_type": "stream",
     "text": [
      "pass\n"
     ]
    }
   ],
   "source": [
    "org_username = 'iankang2013@gmail.com'\n",
    "org_password = 'Ian.kang123'\n",
    "\n",
    "def login_org(driver):\n",
    "    global org_username, org_password\n",
    "    driver.get(base_url + 'login')\n",
    "\n",
    "    # find the username and password fields and enter the respective values\n",
    "    username = driver.find_element(By.NAME, \"username\")\n",
    "    password = driver.find_element(By.NAME, \"pswd\")\n",
    "    submit_btn = driver.find_element(By.CLASS_NAME, \"btn\")\n",
    "\n",
    "    username.send_keys(org_username)\n",
    "    password.send_keys(org_password)\n",
    "\n",
    "    # click the submit button\n",
    "    submit_btn.click()\n",
    "\n",
    "    time.sleep(3)\n",
    "\n",
    "    # check if the page has loaded successfully\n",
    "    if driver.current_url == base_url + 'portal':\n",
    "        return True\n",
    "    return False\n",
    "\n",
    "def test_vxr_login_portal():\n",
    "    global total_num_tests, failed_test_messages, vxr_username, vxr_password\n",
    "    total_num_tests += 1\n",
    "    test_pass = False\n",
    "    logged_in = False\n",
    "\n",
    "    # navigate to the website\n",
    "    driver = make_driver()\n",
    "    if login_org(driver):\n",
    "        logged_in = True\n",
    "\n",
    "    if logged_in:\n",
    "\n",
    "        # Define the elements we hope to find\n",
    "        html_elements = ['Delete Organization', 'Update Organization', 'Invite User', 'View Users']\n",
    "        \n",
    "        # Check that all elements exist in the page\n",
    "        for element in html_elements:\n",
    "            try:\n",
    "                driver.find_element(By.XPATH, '//button[@class=\"btn\" and contains(text(), \"' + element + '\")]')\n",
    "            except:\n",
    "                print(f\"Element '{element}' not found!\")\n",
    "                break\n",
    "        else:\n",
    "            test_pass = True\n",
    "\n",
    "    if not test_pass:\n",
    "        failed_test_messages.append('test org login portal has failed')\n",
    "\n",
    "    # close the browser window\n",
    "    driver.close()\n",
    "    return test_pass\n",
    "\n",
    "try:\n",
    "    if test_vxr_login_portal():\n",
    "        total_pass_tests += 1\n",
    "except:\n",
    "    pass"
   ]
  },
  {
   "cell_type": "code",
   "execution_count": null,
   "metadata": {},
   "outputs": [],
   "source": [
    "# all org functionality"
   ]
  },
  {
   "cell_type": "code",
   "execution_count": 37,
   "metadata": {},
   "outputs": [
    {
     "name": "stderr",
     "output_type": "stream",
     "text": [
      "/var/folders/cc/yk8c4hlx755dh0mtknk66z1w0000gn/T/ipykernel_31471/3620981420.py:11: DeprecationWarning: executable_path has been deprecated, please pass in a Service object\n",
      "  return webdriver.Chrome(chromedriver_path + 'chromedriver')\n"
     ]
    },
    {
     "name": "stdout",
     "output_type": "stream",
     "text": [
      "pass\n"
     ]
    }
   ],
   "source": [
    "# test logging in with user credentials makes the user portal appear\n",
    "user_username = 'wei.kang@ucalgary.ca'\n",
    "user_password = 'Wei.kang123'\n",
    "\n",
    "def login_user(driver):\n",
    "    global user_username, user_password\n",
    "    driver.get(base_url + 'login')\n",
    "\n",
    "    # find the username and password fields and enter the respective values\n",
    "    username = driver.find_element(By.NAME, \"username\")\n",
    "    password = driver.find_element(By.NAME, \"pswd\")\n",
    "    submit_btn = driver.find_element(By.CLASS_NAME, \"btn\")\n",
    "\n",
    "    username.send_keys(user_username)\n",
    "    password.send_keys(user_password)\n",
    "\n",
    "    # click the submit button\n",
    "    submit_btn.click()\n",
    "\n",
    "    time.sleep(3)\n",
    "\n",
    "    # check if the page has loaded successfully\n",
    "    if driver.current_url == base_url + 'portal':\n",
    "        return True\n",
    "    return False\n",
    "\n",
    "def test_vxr_login_portal():\n",
    "    global total_num_tests, failed_test_messages, vxr_username, vxr_password\n",
    "    total_num_tests += 1\n",
    "    test_pass = False\n",
    "    logged_in = False\n",
    "\n",
    "    # navigate to the website\n",
    "    driver = make_driver()\n",
    "    if login_user(driver):\n",
    "        logged_in = True\n",
    "\n",
    "    if logged_in:\n",
    "\n",
    "        # Define the elements we hope to find\n",
    "        html_elements = ['View Information', 'Change Password', 'VR Results']\n",
    "        \n",
    "        # Check that all elements exist in the page\n",
    "        for element in html_elements:\n",
    "            try:\n",
    "                driver.find_element(By.XPATH, '//button[@class=\"btn\" and contains(text(), \"' + element + '\")]')\n",
    "            except:\n",
    "                print(f\"Element '{element}' not found!\")\n",
    "                break\n",
    "        else:\n",
    "            test_pass = True\n",
    "\n",
    "    if not test_pass:\n",
    "        failed_test_messages.append('test org login portal has failed')\n",
    "\n",
    "    # close the browser window\n",
    "    driver.close()\n",
    "    return test_pass\n",
    "\n",
    "try:\n",
    "    if test_vxr_login_portal():\n",
    "        total_pass_tests += 1\n",
    "except:\n",
    "    pass"
   ]
  },
  {
   "cell_type": "code",
   "execution_count": null,
   "metadata": {},
   "outputs": [],
   "source": [
    "# all user functionality"
   ]
  },
  {
   "cell_type": "code",
   "execution_count": null,
   "metadata": {},
   "outputs": [],
   "source": [
    "# you cannot access all hidden urls if you are not logged in"
   ]
  },
  {
   "cell_type": "code",
   "execution_count": null,
   "metadata": {},
   "outputs": [],
   "source": [
    "# you cannot access other urls if you don't have permission"
   ]
  },
  {
   "cell_type": "code",
   "execution_count": 25,
   "metadata": {},
   "outputs": [
    {
     "name": "stdout",
     "output_type": "stream",
     "text": [
      "Total tests:  7\n",
      "Pass tests:  5\n",
      "\n",
      "--------\n",
      "test default navigation has failed\n",
      "test project video playing has failed\n"
     ]
    }
   ],
   "source": [
    "print('Total tests: ', total_num_tests)\n",
    "print('Pass tests: ', total_pass_tests)\n",
    "\n",
    "print('\\n--------')\n",
    "for i in failed_test_messages:\n",
    "    print(i)"
   ]
  },
  {
   "cell_type": "code",
   "execution_count": null,
   "metadata": {},
   "outputs": [],
   "source": []
  }
 ],
 "metadata": {
  "kernelspec": {
   "display_name": "Python 3",
   "language": "python",
   "name": "python3"
  },
  "language_info": {
   "codemirror_mode": {
    "name": "ipython",
    "version": 3
   },
   "file_extension": ".py",
   "mimetype": "text/x-python",
   "name": "python",
   "nbconvert_exporter": "python",
   "pygments_lexer": "ipython3",
   "version": "3.10.4"
  },
  "orig_nbformat": 4
 },
 "nbformat": 4,
 "nbformat_minor": 2
}
