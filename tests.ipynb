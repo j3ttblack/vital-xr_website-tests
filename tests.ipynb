{
 "cells": [
  {
   "cell_type": "code",
   "execution_count": 35,
   "metadata": {},
   "outputs": [],
   "source": [
    "from selenium.webdriver.common.by import By\n",
    "from selenium import webdriver\n",
    "from selenium.webdriver.common.keys import Keys\n",
    "import time\n",
    "import random\n",
    "import string\n",
    "\n",
    "base_url = 'https://j3ttblack.github.io/vital-xr/'\n",
    "chromedriver_path = '../'\n",
    "\n",
    "def make_driver():\n",
    "    # specify the path of the chromedriver executable\n",
    "    return webdriver.Chrome(chromedriver_path + 'chromedriver')\n"
   ]
  },
  {
   "cell_type": "code",
   "execution_count": 36,
   "metadata": {},
   "outputs": [],
   "source": [
    "total_num_tests = 0\n",
    "total_pass_tests = 0\n",
    "failed_test_messages = []"
   ]
  },
  {
   "cell_type": "code",
   "execution_count": 37,
   "metadata": {},
   "outputs": [],
   "source": [
    "def generate_random_string(length):\n",
    "    # Define the set of characters to choose from\n",
    "    characters = string.ascii_letters + string.digits\n",
    "\n",
    "    # Generate a random string of the specified length\n",
    "    result = ''.join(random.choice(characters) for i in range(length))\n",
    "\n",
    "    return result"
   ]
  },
  {
   "cell_type": "code",
   "execution_count": 38,
   "metadata": {},
   "outputs": [
    {
     "name": "stderr",
     "output_type": "stream",
     "text": [
      "/var/folders/cc/yk8c4hlx755dh0mtknk66z1w0000gn/T/ipykernel_39219/908859199.py:13: DeprecationWarning: executable_path has been deprecated, please pass in a Service object\n",
      "  return webdriver.Chrome(chromedriver_path + 'chromedriver')\n"
     ]
    }
   ],
   "source": [
    "def test_default_navigation():\n",
    "    global total_num_tests\n",
    "    total_num_tests += 1\n",
    "    test_pass = False\n",
    "\n",
    "    # navigate to the website\n",
    "    driver = make_driver()\n",
    "    driver.get(base_url)\n",
    "\n",
    "    # check if the page has loaded successfully\n",
    "    if driver.current_url == base_url + 'home':\n",
    "        test_pass = True\n",
    "\n",
    "    # close the browser window\n",
    "    driver.close()\n",
    "    return test_pass\n",
    "\n",
    "try:\n",
    "    if test_default_navigation():\n",
    "        total_pass_tests += 1\n",
    "    else:\n",
    "        failed_test_messages.append('test default navigation has failed')\n",
    "except:\n",
    "    failed_test_messages.append('test default navigation has failed')\n",
    "\n"
   ]
  },
  {
   "cell_type": "code",
   "execution_count": 39,
   "metadata": {},
   "outputs": [
    {
     "name": "stderr",
     "output_type": "stream",
     "text": [
      "/var/folders/cc/yk8c4hlx755dh0mtknk66z1w0000gn/T/ipykernel_39219/908859199.py:13: DeprecationWarning: executable_path has been deprecated, please pass in a Service object\n",
      "  return webdriver.Chrome(chromedriver_path + 'chromedriver')\n"
     ]
    }
   ],
   "source": [
    "def test_image_home_navigation():\n",
    "    global total_num_tests\n",
    "    total_num_tests += 1\n",
    "    test_pass = False\n",
    "\n",
    "    # navigate to the website\n",
    "    driver = make_driver()\n",
    "    driver.get(base_url)\n",
    "\n",
    "    # find the HTML element and click it\n",
    "    element = driver.find_element(By.XPATH, '//img[@class=\"home_img\"]')\n",
    "    element.click()\n",
    "\n",
    "    # check if the page has loaded successfully\n",
    "    if driver.current_url == base_url + 'home':\n",
    "        test_pass = True\n",
    "\n",
    "    # close the browser window\n",
    "    driver.close()\n",
    "    return test_pass\n",
    "\n",
    "try:\n",
    "    if test_image_home_navigation():\n",
    "        total_pass_tests += 1\n",
    "    else:\n",
    "        failed_test_messages.append('test image home navigation navigation has failed')\n",
    "except:\n",
    "    failed_test_messages.append('test image home navigation navigation has failed')\n",
    "\n"
   ]
  },
  {
   "cell_type": "code",
   "execution_count": 40,
   "metadata": {},
   "outputs": [
    {
     "name": "stderr",
     "output_type": "stream",
     "text": [
      "/var/folders/cc/yk8c4hlx755dh0mtknk66z1w0000gn/T/ipykernel_39219/908859199.py:13: DeprecationWarning: executable_path has been deprecated, please pass in a Service object\n",
      "  return webdriver.Chrome(chromedriver_path + 'chromedriver')\n"
     ]
    }
   ],
   "source": [
    "def test_about_navigation():\n",
    "    global total_num_tests\n",
    "    total_num_tests += 1\n",
    "    test_pass = False\n",
    "\n",
    "    # navigate to the website\n",
    "    driver = make_driver()\n",
    "    driver.get(base_url)\n",
    "\n",
    "    # find the HTML element and click it\n",
    "    element = driver.find_element(By.XPATH, '//a[@href=\"/vital-xr/about\"]')\n",
    "    element.click()\n",
    "\n",
    "    # check if the page has loaded successfully\n",
    "    if driver.current_url == base_url + 'about':\n",
    "        test_pass = True\n",
    "\n",
    "    # close the browser window\n",
    "    driver.close()\n",
    "    return test_pass\n",
    "\n",
    "try:\n",
    "    if test_about_navigation():\n",
    "        total_pass_tests += 1\n",
    "    else:\n",
    "        failed_test_messages.append('test about navigation has failed')\n",
    "except:\n",
    "    failed_test_messages.append('test about navigation has failed')\n"
   ]
  },
  {
   "cell_type": "code",
   "execution_count": 41,
   "metadata": {},
   "outputs": [
    {
     "name": "stderr",
     "output_type": "stream",
     "text": [
      "/var/folders/cc/yk8c4hlx755dh0mtknk66z1w0000gn/T/ipykernel_39219/908859199.py:13: DeprecationWarning: executable_path has been deprecated, please pass in a Service object\n",
      "  return webdriver.Chrome(chromedriver_path + 'chromedriver')\n"
     ]
    }
   ],
   "source": [
    "def test_project_navigation():\n",
    "    global total_num_tests\n",
    "    total_num_tests += 1\n",
    "    test_pass = False\n",
    "\n",
    "    # navigate to the website\n",
    "    driver = make_driver()\n",
    "    driver.get(base_url)\n",
    "\n",
    "    # find the HTML element and click it\n",
    "    element = driver.find_element(By.XPATH, '//a[@href=\"/vital-xr/project\"]')\n",
    "    element.click()\n",
    "\n",
    "    # check if the page has loaded successfully\n",
    "    if driver.current_url == base_url + 'project':\n",
    "        test_pass = True\n",
    "\n",
    "    # close the browser window\n",
    "    driver.close()\n",
    "    return test_pass\n",
    "\n",
    "try:\n",
    "    if test_project_navigation():\n",
    "        total_pass_tests += 1\n",
    "    else:\n",
    "        failed_test_messages.append('test project navigation has failed')\n",
    "except:\n",
    "    failed_test_messages.append('test project navigation has failed')"
   ]
  },
  {
   "cell_type": "code",
   "execution_count": 42,
   "metadata": {},
   "outputs": [
    {
     "name": "stderr",
     "output_type": "stream",
     "text": [
      "/var/folders/cc/yk8c4hlx755dh0mtknk66z1w0000gn/T/ipykernel_39219/908859199.py:13: DeprecationWarning: executable_path has been deprecated, please pass in a Service object\n",
      "  return webdriver.Chrome(chromedriver_path + 'chromedriver')\n"
     ]
    }
   ],
   "source": [
    "def test_project_video():\n",
    "    global total_num_tests, failed_test_messages\n",
    "    total_num_tests += 1\n",
    "    test_pass = False\n",
    "\n",
    "    # navigate to the website\n",
    "    driver = make_driver()\n",
    "    driver.get(base_url + 'project')\n",
    "\n",
    "    # find the video element and click it\n",
    "    element = driver.find_element(By.XPATH, '//video[@poster=\"assets/intubation_promo_video_poster.png\"]')\n",
    "    element.click()\n",
    "\n",
    "    # wait for the video to start playing\n",
    "    time.sleep(10)\n",
    "\n",
    "    # check if the video is playing\n",
    "    if driver.execute_script('return document.getElementsByTagName(\"video\")[0].paused') == False:\n",
    "        test_pass = True\n",
    "\n",
    "    # close the browser window\n",
    "    driver.close()\n",
    "    return test_pass\n",
    "\n",
    "try:\n",
    "    if test_project_video():\n",
    "        total_pass_tests += 1\n",
    "    else:\n",
    "        failed_test_messages.append('test project video playing has failed')\n",
    "except:\n",
    "    failed_test_messages.append('test project video playing has failed')\n"
   ]
  },
  {
   "cell_type": "code",
   "execution_count": 43,
   "metadata": {},
   "outputs": [
    {
     "name": "stderr",
     "output_type": "stream",
     "text": [
      "/var/folders/cc/yk8c4hlx755dh0mtknk66z1w0000gn/T/ipykernel_39219/908859199.py:13: DeprecationWarning: executable_path has been deprecated, please pass in a Service object\n",
      "  return webdriver.Chrome(chromedriver_path + 'chromedriver')\n"
     ]
    }
   ],
   "source": [
    "def test_news_navigation():\n",
    "    global total_num_tests\n",
    "    total_num_tests += 1\n",
    "    test_pass = False\n",
    "\n",
    "    # navigate to the website\n",
    "    driver = make_driver()\n",
    "    driver.get(base_url)\n",
    "\n",
    "    # find the HTML element and click it\n",
    "    element = driver.find_element(By.XPATH, '//a[@href=\"/vital-xr/news\"]')\n",
    "    element.click()\n",
    "\n",
    "    # check if the page has loaded successfully\n",
    "    if driver.current_url == base_url + 'news':\n",
    "        test_pass = True\n",
    "\n",
    "    # close the browser window\n",
    "    driver.close()\n",
    "    return test_pass\n",
    "\n",
    "try:\n",
    "    if test_news_navigation():\n",
    "        total_pass_tests += 1\n",
    "    else:\n",
    "        failed_test_messages.append('test news navigation has failed')\n",
    "except:\n",
    "    failed_test_messages.append('test news navigation has failed')"
   ]
  },
  {
   "cell_type": "code",
   "execution_count": 44,
   "metadata": {},
   "outputs": [
    {
     "name": "stderr",
     "output_type": "stream",
     "text": [
      "/var/folders/cc/yk8c4hlx755dh0mtknk66z1w0000gn/T/ipykernel_39219/908859199.py:13: DeprecationWarning: executable_path has been deprecated, please pass in a Service object\n",
      "  return webdriver.Chrome(chromedriver_path + 'chromedriver')\n"
     ]
    }
   ],
   "source": [
    "def test_news_read_more():\n",
    "    global total_num_tests, failed_test_messages\n",
    "    total_num_tests += 1\n",
    "    test_pass = False\n",
    "\n",
    "    # navigate to the website\n",
    "    driver = make_driver()\n",
    "    driver.get(base_url + 'news')\n",
    "\n",
    "    # Find the button and click on it\n",
    "    try:\n",
    "        element = driver.find_element(By.XPATH, '//button[@class=\"btn\" and contains(text(), \"Read More\")]')\n",
    "        element.click()\n",
    "    except:\n",
    "        print('button not found')\n",
    "\n",
    "    # wait for navigation\n",
    "    time.sleep(2)\n",
    "    driver.switch_to.window(driver.window_handles[-1])\n",
    "\n",
    "    # check new url\n",
    "    if driver.current_url == \"https://add.albertadoctors.org/issues/january-february-2022/failing-forward/\":\n",
    "        test_pass = True\n",
    "\n",
    "    # close the browser window\n",
    "    driver.close()\n",
    "    return test_pass\n",
    "\n",
    "try:\n",
    "    if test_news_read_more():\n",
    "        total_pass_tests += 1\n",
    "    else:\n",
    "        failed_test_messages.append('test news read more has failed')\n",
    "except:\n",
    "    failed_test_messages.append('test news read more has failed')\n"
   ]
  },
  {
   "cell_type": "code",
   "execution_count": 45,
   "metadata": {},
   "outputs": [
    {
     "name": "stderr",
     "output_type": "stream",
     "text": [
      "/var/folders/cc/yk8c4hlx755dh0mtknk66z1w0000gn/T/ipykernel_39219/908859199.py:13: DeprecationWarning: executable_path has been deprecated, please pass in a Service object\n",
      "  return webdriver.Chrome(chromedriver_path + 'chromedriver')\n"
     ]
    }
   ],
   "source": [
    "def test_contact_navigation():\n",
    "    global total_num_tests\n",
    "    total_num_tests += 1\n",
    "    test_pass = False\n",
    "\n",
    "    # navigate to the website\n",
    "    driver = make_driver()\n",
    "    driver.get(base_url)\n",
    "\n",
    "    # find the HTML element and click it\n",
    "    element = driver.find_element(By.XPATH, '//a[@href=\"/vital-xr/contact\"]')\n",
    "    element.click()\n",
    "\n",
    "    # check if the page has loaded successfully\n",
    "    if driver.current_url == base_url + 'contact':\n",
    "        test_pass = True\n",
    "\n",
    "    # close the browser window\n",
    "    driver.close()\n",
    "    return test_pass\n",
    "\n",
    "try:\n",
    "    if test_contact_navigation():\n",
    "        total_pass_tests += 1\n",
    "    else:\n",
    "        failed_test_messages.append('test contact navigation has failed')\n",
    "except:\n",
    "    failed_test_messages.append('test contact navigation has failed')"
   ]
  },
  {
   "cell_type": "code",
   "execution_count": 46,
   "metadata": {},
   "outputs": [
    {
     "name": "stderr",
     "output_type": "stream",
     "text": [
      "/var/folders/cc/yk8c4hlx755dh0mtknk66z1w0000gn/T/ipykernel_39219/908859199.py:13: DeprecationWarning: executable_path has been deprecated, please pass in a Service object\n",
      "  return webdriver.Chrome(chromedriver_path + 'chromedriver')\n"
     ]
    }
   ],
   "source": [
    "rand_contact_name = generate_random_string(10)\n",
    "rand_contact_email = rand_contact_name + '.' + generate_random_string(10) + '@gmail.com'\n",
    "rand_contact_message = generate_random_string(50)\n",
    "\n",
    "\n",
    "def test_contact_form():\n",
    "    global total_num_tests, rand_contact_name, rand_contact_email, rand_contact_message\n",
    "    total_num_tests += 1\n",
    "    test_pass = False\n",
    "\n",
    "    # navigate to the website\n",
    "    driver = make_driver()\n",
    "    driver.get(base_url+ 'contact')\n",
    "\n",
    "    # Find the name input field and enter 'name'\n",
    "    name_input = driver.find_element(By.NAME, 'name')\n",
    "    name_input.send_keys(rand_contact_name)\n",
    "\n",
    "    # Find the email input field and enter 'email'\n",
    "    email_input = driver.find_element(By.NAME, 'email')\n",
    "    email_input.send_keys(rand_contact_email)\n",
    "\n",
    "    # Find the message textarea and enter 'message'\n",
    "    message_input = driver.find_element(By.NAME, 'message')\n",
    "    message_input.send_keys(rand_contact_message)\n",
    "\n",
    "    # Click the button\n",
    "    element = driver.find_element(By.XPATH, '//button[@class=\"btn\" and contains(text(), \"Submit\")]')\n",
    "    element.click()\n",
    "\n",
    "    # Find the results text\n",
    "    driver.find_element(By.XPATH, \"//div[@class='submit_text']\")\n",
    "    test_pass = True\n",
    "\n",
    "    # close the browser window\n",
    "    driver.close()\n",
    "    return test_pass\n",
    "\n",
    "try:\n",
    "    if test_contact_form():\n",
    "        total_pass_tests += 1\n",
    "    else:\n",
    "        failed_test_messages.append('test contact form has failed')\n",
    "except:\n",
    "    failed_test_messages.append('test contact form has failed')"
   ]
  },
  {
   "cell_type": "code",
   "execution_count": 47,
   "metadata": {},
   "outputs": [
    {
     "name": "stderr",
     "output_type": "stream",
     "text": [
      "/var/folders/cc/yk8c4hlx755dh0mtknk66z1w0000gn/T/ipykernel_39219/908859199.py:13: DeprecationWarning: executable_path has been deprecated, please pass in a Service object\n",
      "  return webdriver.Chrome(chromedriver_path + 'chromedriver')\n"
     ]
    }
   ],
   "source": [
    "def test_signup_navigation():\n",
    "    global total_num_tests\n",
    "    total_num_tests += 1\n",
    "    test_pass = False\n",
    "\n",
    "    # navigate to the website\n",
    "    driver = make_driver()\n",
    "    driver.get(base_url)\n",
    "\n",
    "    # find the HTML element and click it\n",
    "    element = driver.find_element(By.XPATH, '//a[@href=\"/vital-xr/signup\"]')\n",
    "    element.click()\n",
    "\n",
    "    # check if the page has loaded successfully\n",
    "    if driver.current_url == base_url + 'signup':\n",
    "        test_pass = True\n",
    "\n",
    "    # close the browser window\n",
    "    driver.close()\n",
    "    return test_pass\n",
    "\n",
    "try:\n",
    "    if test_signup_navigation():\n",
    "        total_pass_tests += 1\n",
    "    else:\n",
    "        failed_test_messages.append('test signup navigation has failed')\n",
    "except:\n",
    "    failed_test_messages.append('test signup navigation has failed')"
   ]
  },
  {
   "cell_type": "code",
   "execution_count": 48,
   "metadata": {},
   "outputs": [
    {
     "name": "stderr",
     "output_type": "stream",
     "text": [
      "/var/folders/cc/yk8c4hlx755dh0mtknk66z1w0000gn/T/ipykernel_39219/908859199.py:13: DeprecationWarning: executable_path has been deprecated, please pass in a Service object\n",
      "  return webdriver.Chrome(chromedriver_path + 'chromedriver')\n"
     ]
    }
   ],
   "source": [
    "rand_signup_org = generate_random_string(10)\n",
    "rand_signup_fname = generate_random_string(10)\n",
    "rand_signup_lname = generate_random_string(10)\n",
    "rand_signup_email = rand_signup_fname + '.' + rand_signup_lname + '@gmail.com'\n",
    "rand_signup_message = generate_random_string(50)\n",
    "\n",
    "def test_new_signup_state():\n",
    "    global total_num_tests, rand_signup_org, rand_signup_fname, rand_signup_lname, rand_signup_email, \\\n",
    "        rand_signup_message\n",
    "    total_num_tests += 1\n",
    "    test_pass = False\n",
    "\n",
    "    # navigate to the website\n",
    "    driver = make_driver()\n",
    "    driver.get(base_url + 'signup')\n",
    "\n",
    "    # Find the input fields and fill in the values\n",
    "    company_input = driver.find_element(By.NAME, \"company\")\n",
    "    company_input.send_keys(rand_signup_org)\n",
    "\n",
    "    fname_input = driver.find_element(By.NAME, \"fname\")\n",
    "    fname_input.send_keys(rand_signup_fname)\n",
    "\n",
    "    lname_input = driver.find_element(By.NAME, \"lname\")\n",
    "    lname_input.send_keys(rand_signup_lname)\n",
    "\n",
    "    email_input = driver.find_element(By.NAME, \"email\")\n",
    "    email_input.send_keys(rand_signup_email)\n",
    "\n",
    "    message_input = driver.find_element(By.NAME, \"reason\")\n",
    "    message_input.send_keys(rand_signup_message)\n",
    "\n",
    "    # Click the button\n",
    "    element = driver.find_element(By.XPATH, '//button[@class=\"btn\" and contains(text(), \"Submit\")]')\n",
    "    element.click()\n",
    "\n",
    "    # Find the results text\n",
    "    driver.find_element(By.XPATH, \"//div[@class='submit_text']\")\n",
    "    test_pass = True\n",
    "\n",
    "    # close the browser window\n",
    "    driver.close()\n",
    "    return test_pass\n",
    "\n",
    "try:\n",
    "    if test_new_signup_state():\n",
    "        total_pass_tests += 1\n",
    "    else:\n",
    "        failed_test_messages.append('test new signup navigation has failed')\n",
    "except:\n",
    "    failed_test_messages.append('test new signup navigation has failed')"
   ]
  },
  {
   "cell_type": "code",
   "execution_count": 49,
   "metadata": {},
   "outputs": [
    {
     "name": "stderr",
     "output_type": "stream",
     "text": [
      "/var/folders/cc/yk8c4hlx755dh0mtknk66z1w0000gn/T/ipykernel_39219/908859199.py:13: DeprecationWarning: executable_path has been deprecated, please pass in a Service object\n",
      "  return webdriver.Chrome(chromedriver_path + 'chromedriver')\n"
     ]
    }
   ],
   "source": [
    "def test_login_navigation():\n",
    "    global total_num_tests\n",
    "    total_num_tests += 1\n",
    "    test_pass = False\n",
    "\n",
    "    # navigate to the website\n",
    "    driver = make_driver()\n",
    "    driver.get(base_url)\n",
    "\n",
    "    # find the HTML element and click it\n",
    "    element = driver.find_element(By.XPATH, '//a[@href=\"/vital-xr/login\"]')\n",
    "    element.click()\n",
    "\n",
    "    # check if the page has loaded successfully\n",
    "    if driver.current_url == base_url + 'login':\n",
    "        test_pass = True\n",
    "\n",
    "    # close the browser window\n",
    "    driver.close()\n",
    "    return test_pass\n",
    "\n",
    "try:\n",
    "    if test_login_navigation():\n",
    "        total_pass_tests += 1\n",
    "    else:\n",
    "        failed_test_messages.append('test login navigation has failed')\n",
    "except:\n",
    "    failed_test_messages.append('test login navigation has failed')"
   ]
  },
  {
   "cell_type": "code",
   "execution_count": 50,
   "metadata": {},
   "outputs": [
    {
     "name": "stderr",
     "output_type": "stream",
     "text": [
      "/var/folders/cc/yk8c4hlx755dh0mtknk66z1w0000gn/T/ipykernel_39219/908859199.py:13: DeprecationWarning: executable_path has been deprecated, please pass in a Service object\n",
      "  return webdriver.Chrome(chromedriver_path + 'chromedriver')\n"
     ]
    }
   ],
   "source": [
    "def test_login_navigation():\n",
    "    global total_num_tests\n",
    "    total_num_tests += 1\n",
    "    test_pass = False\n",
    "\n",
    "    # navigate to the website\n",
    "    driver = make_driver()\n",
    "    driver.get(base_url)\n",
    "\n",
    "    # find the HTML element and click it\n",
    "    element = driver.find_element(By.XPATH, '//a[@href=\"/vital-xr/login\"]')\n",
    "    element.click()\n",
    "\n",
    "    # check if the page has loaded successfully\n",
    "    if driver.current_url == base_url + 'login':\n",
    "        test_pass = True\n",
    "\n",
    "    # close the browser window\n",
    "    driver.close()\n",
    "    return test_pass\n",
    "\n",
    "try:\n",
    "    if test_login_navigation():\n",
    "        total_pass_tests += 1\n",
    "    else:\n",
    "        failed_test_messages.append('test login navigation has failed')\n",
    "except:\n",
    "    failed_test_messages.append('test login navigation has failed')"
   ]
  },
  {
   "cell_type": "code",
   "execution_count": 51,
   "metadata": {},
   "outputs": [
    {
     "name": "stderr",
     "output_type": "stream",
     "text": [
      "/var/folders/cc/yk8c4hlx755dh0mtknk66z1w0000gn/T/ipykernel_39219/908859199.py:13: DeprecationWarning: executable_path has been deprecated, please pass in a Service object\n",
      "  return webdriver.Chrome(chromedriver_path + 'chromedriver')\n"
     ]
    }
   ],
   "source": [
    "rand_new_email = generate_random_string(5) + '.' + generate_random_string(5) + '@gmail.com'\n",
    "\n",
    "def test_new_login_navigation():\n",
    "    global total_num_tests, rand_new_email\n",
    "    total_num_tests += 1\n",
    "    test_pass = False\n",
    "\n",
    "    # navigate to the website\n",
    "    driver = make_driver()\n",
    "    driver.get(base_url + 'login')\n",
    "\n",
    "    try:\n",
    "        link = driver.find_element(By.XPATH, \"//a[@class='click_text_display']\")\n",
    "        link.click()\n",
    "    except:\n",
    "        print('Not found')\n",
    "\n",
    "    time.sleep(1)\n",
    "\n",
    "    email_input = driver.find_element(By.NAME, \"email\")\n",
    "    email_input.send_keys(rand_new_email)\n",
    "\n",
    "    element = driver.find_element(By.XPATH, '//button[@class=\"btn\" and contains(text(), \"Submit\")]')\n",
    "    element.click()\n",
    "\n",
    "    test_pass = True\n",
    "\n",
    "    # close the browser window\n",
    "    driver.close()\n",
    "    return test_pass\n",
    "\n",
    "try:\n",
    "    if test_new_login_navigation():\n",
    "        total_pass_tests += 1\n",
    "    else:\n",
    "        failed_test_messages.append('test new login navigation has failed')\n",
    "except:\n",
    "    failed_test_messages.append('test new login navigation has failed')"
   ]
  },
  {
   "cell_type": "code",
   "execution_count": 52,
   "metadata": {},
   "outputs": [
    {
     "name": "stderr",
     "output_type": "stream",
     "text": [
      "/var/folders/cc/yk8c4hlx755dh0mtknk66z1w0000gn/T/ipykernel_39219/908859199.py:13: DeprecationWarning: executable_path has been deprecated, please pass in a Service object\n",
      "  return webdriver.Chrome(chromedriver_path + 'chromedriver')\n"
     ]
    },
    {
     "name": "stdout",
     "output_type": "stream",
     "text": [
      "pass\n"
     ]
    }
   ],
   "source": [
    "rand_username = generate_random_string(50)\n",
    "rand_password = generate_random_string(50)\n",
    "\n",
    "def test_incorrect_login():\n",
    "    global total_num_tests, rand_username, rand_password\n",
    "    total_num_tests += 1\n",
    "    test_pass = False\n",
    "\n",
    "    # navigate to the website\n",
    "    driver = make_driver()\n",
    "    driver.get(base_url + 'login')\n",
    "\n",
    "    # find the username and password fields and enter the respective values\n",
    "    username = driver.find_element(By.NAME, \"username\")\n",
    "    password = driver.find_element(By.NAME, \"pswd\")\n",
    "    submit_btn = driver.find_element(By.CLASS_NAME, \"btn\")\n",
    "\n",
    "    username.send_keys(rand_username)\n",
    "    password.send_keys(rand_password)\n",
    "\n",
    "    # click the submit button\n",
    "    submit_btn.click()\n",
    "\n",
    "    time.sleep(3)\n",
    "\n",
    "    # check if the page has loaded successfully\n",
    "    if driver.current_url != base_url + 'portal':\n",
    "        test_pass = True\n",
    "\n",
    "    # close the browser window\n",
    "    driver.close()\n",
    "    return test_pass\n",
    "\n",
    "try:\n",
    "    if test_incorrect_login():\n",
    "        total_pass_tests += 1\n",
    "        print('pass')\n",
    "    else:\n",
    "        failed_test_messages.append('test incorrect login has failed')\n",
    "except:\n",
    "    failed_test_messages.append('test incorrect login has failed')"
   ]
  },
  {
   "cell_type": "code",
   "execution_count": 77,
   "metadata": {},
   "outputs": [
    {
     "name": "stderr",
     "output_type": "stream",
     "text": [
      "/var/folders/cc/yk8c4hlx755dh0mtknk66z1w0000gn/T/ipykernel_39219/908859199.py:13: DeprecationWarning: executable_path has been deprecated, please pass in a Service object\n",
      "  return webdriver.Chrome(chromedriver_path + 'chromedriver')\n"
     ]
    }
   ],
   "source": [
    "def test_google_login_navigation():\n",
    "    global total_num_tests\n",
    "    total_num_tests += 1\n",
    "    test_pass = False\n",
    "\n",
    "    # navigate to the website\n",
    "    driver = make_driver()\n",
    "    driver.get(base_url + 'login')\n",
    "\n",
    "    try:\n",
    "        link = driver.find_element(By.XPATH, \"//span[@class='click_text_display']\")\n",
    "        link.click()\n",
    "    except:\n",
    "        print('Not found')\n",
    "\n",
    "    time.sleep(3)\n",
    "\n",
    "    if driver.current_url != base_url + 'login':\n",
    "        test_pass = True\n",
    "\n",
    "    # close the browser window\n",
    "    driver.close()\n",
    "    return test_pass\n",
    "\n",
    "try:\n",
    "    if test_google_login_navigation():\n",
    "        total_pass_tests += 1\n",
    "    else:\n",
    "        failed_test_messages.append('test google login navigation has failed')\n",
    "except:\n",
    "    failed_test_messages.append('test google login navigation has failed')"
   ]
  },
  {
   "cell_type": "code",
   "execution_count": 54,
   "metadata": {},
   "outputs": [
    {
     "name": "stderr",
     "output_type": "stream",
     "text": [
      "/var/folders/cc/yk8c4hlx755dh0mtknk66z1w0000gn/T/ipykernel_39219/908859199.py:13: DeprecationWarning: executable_path has been deprecated, please pass in a Service object\n",
      "  return webdriver.Chrome(chromedriver_path + 'chromedriver')\n"
     ]
    }
   ],
   "source": [
    "vxr_username = 'wei.kang8775@gmail.com'\n",
    "vxr_password = 'Wei.kang321'\n",
    "\n",
    "def login_vxr(driver):\n",
    "    global vxr_username, vxr_password\n",
    "    driver.get(base_url + 'login')\n",
    "\n",
    "    # find the username and password fields and enter the respective values\n",
    "    username = driver.find_element(By.NAME, \"username\")\n",
    "    password = driver.find_element(By.NAME, \"pswd\")\n",
    "    submit_btn = driver.find_element(By.CLASS_NAME, \"btn\")\n",
    "\n",
    "    username.send_keys(vxr_username)\n",
    "    password.send_keys(vxr_password)\n",
    "\n",
    "    # click the submit button\n",
    "    submit_btn.click()\n",
    "\n",
    "    time.sleep(3)\n",
    "\n",
    "    # check if the page has loaded successfully\n",
    "    if driver.current_url == base_url + 'portal':\n",
    "        return True\n",
    "    return False\n",
    "\n",
    "def test_successful_login_navigation():\n",
    "    global total_num_tests, vxr_username, vxr_password\n",
    "    total_num_tests += 1\n",
    "    test_pass = False\n",
    "\n",
    "    # navigate to the website\n",
    "    driver = make_driver()\n",
    "    if login_vxr(driver):\n",
    "        test_pass = True\n",
    "\n",
    "    # close the browser window\n",
    "    driver.close()\n",
    "    return test_pass\n",
    "\n",
    "try:\n",
    "    if test_successful_login_navigation():\n",
    "        total_pass_tests += 1\n",
    "    else:\n",
    "        failed_test_messages.append('test successful login navigation has failed')\n",
    "except:\n",
    "    failed_test_messages.append('test successful login navigation has failed')"
   ]
  },
  {
   "cell_type": "code",
   "execution_count": 55,
   "metadata": {},
   "outputs": [
    {
     "name": "stderr",
     "output_type": "stream",
     "text": [
      "/var/folders/cc/yk8c4hlx755dh0mtknk66z1w0000gn/T/ipykernel_39219/908859199.py:13: DeprecationWarning: executable_path has been deprecated, please pass in a Service object\n",
      "  return webdriver.Chrome(chromedriver_path + 'chromedriver')\n"
     ]
    }
   ],
   "source": [
    "def test_image_portal_navigation():\n",
    "    global total_num_tests, vxr_username, vxr_password\n",
    "    total_num_tests += 1\n",
    "    test_pass = False\n",
    "    logged_in = False\n",
    "\n",
    "    # navigate to the website\n",
    "    driver = make_driver()\n",
    "    if login_vxr(driver):\n",
    "        logged_in = True\n",
    "\n",
    "    if logged_in:\n",
    "        # find the HTML element and click it\n",
    "        element = driver.find_element(By.CSS_SELECTOR, 'img.home_img')\n",
    "        element.click()\n",
    "\n",
    "        # check if the page has loaded successfully\n",
    "        if driver.current_url == base_url + 'portal':\n",
    "            test_pass = True\n",
    "\n",
    "    # close the browser window\n",
    "    driver.close()\n",
    "    return test_pass\n",
    "\n",
    "try:\n",
    "    if test_image_portal_navigation():\n",
    "        total_pass_tests += 1\n",
    "    else:\n",
    "        failed_test_messages.append('test vxr login portal has failed')\n",
    "except:\n",
    "    failed_test_messages.append('test vxr login portal has failed')\n"
   ]
  },
  {
   "cell_type": "code",
   "execution_count": 56,
   "metadata": {},
   "outputs": [
    {
     "name": "stderr",
     "output_type": "stream",
     "text": [
      "/var/folders/cc/yk8c4hlx755dh0mtknk66z1w0000gn/T/ipykernel_39219/908859199.py:13: DeprecationWarning: executable_path has been deprecated, please pass in a Service object\n",
      "  return webdriver.Chrome(chromedriver_path + 'chromedriver')\n"
     ]
    }
   ],
   "source": [
    "def test_logout_appears():\n",
    "    global total_num_tests, failed_test_messages, vxr_username, vxr_password\n",
    "    total_num_tests += 1\n",
    "    test_pass = False\n",
    "    logged_in = False\n",
    "\n",
    "    # navigate to the website\n",
    "    driver = make_driver()\n",
    "    if login_vxr(driver):\n",
    "        logged_in = True\n",
    "\n",
    "    if logged_in:\n",
    "        try:\n",
    "            driver.find_element(By.XPATH, '//a[@href=\"/vital-xr/home\"]')\n",
    "            test_pass = True\n",
    "        except:\n",
    "            print('Element logout not found')\n",
    "\n",
    "    # close the browser window\n",
    "    driver.close()\n",
    "    return test_pass\n",
    "\n",
    "try:\n",
    "    if test_logout_appears():\n",
    "        total_pass_tests += 1\n",
    "    else:\n",
    "        failed_test_messages.append('test logout appears has failed')\n",
    "except:\n",
    "    failed_test_messages.append('test logout appears has failed')\n"
   ]
  },
  {
   "cell_type": "code",
   "execution_count": 57,
   "metadata": {},
   "outputs": [
    {
     "name": "stderr",
     "output_type": "stream",
     "text": [
      "/var/folders/cc/yk8c4hlx755dh0mtknk66z1w0000gn/T/ipykernel_39219/908859199.py:13: DeprecationWarning: executable_path has been deprecated, please pass in a Service object\n",
      "  return webdriver.Chrome(chromedriver_path + 'chromedriver')\n"
     ]
    }
   ],
   "source": [
    "def test_logout_navigation():\n",
    "    global total_num_tests, vxr_username, vxr_password\n",
    "    total_num_tests += 1\n",
    "    test_pass = False\n",
    "    logged_in = False\n",
    "\n",
    "    # navigate to the website\n",
    "    driver = make_driver()\n",
    "    if login_vxr(driver):\n",
    "        logged_in = True\n",
    "\n",
    "    if logged_in:\n",
    "        # find the HTML element and click it\n",
    "        element = driver.find_element(By.XPATH, '//a[@href=\"/vital-xr/home\"]')\n",
    "        element.click()\n",
    "\n",
    "        # check if the page has loaded successfully\n",
    "        if driver.current_url == base_url + 'home':\n",
    "            test_pass = True\n",
    "\n",
    "    # close the browser window\n",
    "    driver.close()\n",
    "    return test_pass\n",
    "\n",
    "try:\n",
    "    if test_logout_navigation():\n",
    "        total_pass_tests += 1\n",
    "    else:\n",
    "        failed_test_messages.append('test logout navigation has failed')\n",
    "except:\n",
    "    failed_test_messages.append('test logout navigation has failed')"
   ]
  },
  {
   "cell_type": "code",
   "execution_count": 58,
   "metadata": {},
   "outputs": [
    {
     "name": "stderr",
     "output_type": "stream",
     "text": [
      "/var/folders/cc/yk8c4hlx755dh0mtknk66z1w0000gn/T/ipykernel_39219/908859199.py:13: DeprecationWarning: executable_path has been deprecated, please pass in a Service object\n",
      "  return webdriver.Chrome(chromedriver_path + 'chromedriver')\n"
     ]
    }
   ],
   "source": [
    "def test_logout_login_change():\n",
    "    global total_num_tests, vxr_username, vxr_password\n",
    "    total_num_tests += 1\n",
    "    test_pass = False\n",
    "    logged_in = False\n",
    "\n",
    "    # navigate to the website\n",
    "    driver = make_driver()\n",
    "    if login_vxr(driver):\n",
    "        logged_in = True\n",
    "\n",
    "    if logged_in:\n",
    "        # find the HTML element and click it\n",
    "        element = driver.find_element(By.XPATH, '//a[@href=\"/vital-xr/home\"]')\n",
    "        element.click()\n",
    "\n",
    "        # check if the page has loaded successfully\n",
    "        if driver.current_url == base_url + 'home':\n",
    "            element = driver.find_element(By.XPATH, '//a[@href=\"/vital-xr/login\"]')\n",
    "            element.click()\n",
    "\n",
    "            if driver.current_url == base_url + 'login':\n",
    "                test_pass = True\n",
    "\n",
    "    # close the browser window\n",
    "    driver.close()\n",
    "    return test_pass\n",
    "\n",
    "try:\n",
    "    if test_logout_login_change():\n",
    "        total_pass_tests += 1\n",
    "    else:\n",
    "        failed_test_messages.append('test logout login change has failed')\n",
    "except:\n",
    "    failed_test_messages.append('test logout login change has failed')"
   ]
  },
  {
   "cell_type": "code",
   "execution_count": 59,
   "metadata": {},
   "outputs": [
    {
     "name": "stderr",
     "output_type": "stream",
     "text": [
      "/var/folders/cc/yk8c4hlx755dh0mtknk66z1w0000gn/T/ipykernel_39219/908859199.py:13: DeprecationWarning: executable_path has been deprecated, please pass in a Service object\n",
      "  return webdriver.Chrome(chromedriver_path + 'chromedriver')\n"
     ]
    }
   ],
   "source": [
    "def test_vxr_login_portal():\n",
    "    global total_num_tests, vxr_username, vxr_password\n",
    "    total_num_tests += 1\n",
    "    test_pass = False\n",
    "    logged_in = False\n",
    "\n",
    "    # navigate to the website\n",
    "    driver = make_driver()\n",
    "    if login_vxr(driver):\n",
    "        logged_in = True\n",
    "\n",
    "    if logged_in:\n",
    "\n",
    "        # Define the elements we hope to find\n",
    "        html_elements = ['New Organization', 'View Organizations', 'Delete Organization', 'Update Organizations', 'Approve Organizations']\n",
    "        \n",
    "        # Check that all elements exist in the page\n",
    "        for element in html_elements:\n",
    "            try:\n",
    "                driver.find_element(By.XPATH, '//button[@class=\"btn\" and contains(text(), \"' + element + '\")]')\n",
    "            except:\n",
    "                print(f\"Element '{element}' not found!\")\n",
    "                break\n",
    "        else:\n",
    "            test_pass = True\n",
    "\n",
    "    # close the browser window\n",
    "    driver.close()\n",
    "    return test_pass\n",
    "\n",
    "try:\n",
    "    if test_vxr_login_portal():\n",
    "        total_pass_tests += 1\n",
    "    else:\n",
    "        failed_test_messages.append('test vxr login portal has failed')\n",
    "except:\n",
    "    failed_test_messages.append('test vxr login portal has failed')"
   ]
  },
  {
   "cell_type": "code",
   "execution_count": 61,
   "metadata": {},
   "outputs": [],
   "source": [
    "# test signup actually propagates changes"
   ]
  },
  {
   "cell_type": "code",
   "execution_count": 62,
   "metadata": {},
   "outputs": [
    {
     "name": "stderr",
     "output_type": "stream",
     "text": [
      "/var/folders/cc/yk8c4hlx755dh0mtknk66z1w0000gn/T/ipykernel_39219/908859199.py:13: DeprecationWarning: executable_path has been deprecated, please pass in a Service object\n",
      "  return webdriver.Chrome(chromedriver_path + 'chromedriver')\n"
     ]
    }
   ],
   "source": [
    "def test_vxr_portal_new_org_routing():\n",
    "    global total_num_tests, vxr_username, vxr_password\n",
    "    total_num_tests += 1\n",
    "    test_pass = False\n",
    "    logged_in = False\n",
    "\n",
    "    # navigate to the website\n",
    "    driver = make_driver()\n",
    "    if login_vxr(driver):\n",
    "        logged_in = True\n",
    "\n",
    "    if logged_in:\n",
    "\n",
    "        # find the HTML element and click it\n",
    "        try:\n",
    "            element = driver.find_element(By.XPATH, '//button[@class=\"btn\" and contains(text(), \"New Organization\")]')\n",
    "            element.click()\n",
    "        except:\n",
    "            print('element not found')\n",
    "\n",
    "        # check if the page has loaded successfully\n",
    "        if driver.current_url == base_url + 'organizations/add':\n",
    "            test_pass = True\n",
    "\n",
    "    # close the browser window\n",
    "    driver.close()\n",
    "    return test_pass\n",
    "\n",
    "try:\n",
    "    if test_vxr_portal_new_org_routing():\n",
    "        total_pass_tests += 1\n",
    "    else:\n",
    "        failed_test_messages.append('test vxr portal new org routing has failed')\n",
    "except:\n",
    "    failed_test_messages.append('test vxr portal new org routing has failed')"
   ]
  },
  {
   "cell_type": "code",
   "execution_count": 63,
   "metadata": {},
   "outputs": [
    {
     "name": "stderr",
     "output_type": "stream",
     "text": [
      "/var/folders/cc/yk8c4hlx755dh0mtknk66z1w0000gn/T/ipykernel_39219/908859199.py:13: DeprecationWarning: executable_path has been deprecated, please pass in a Service object\n",
      "  return webdriver.Chrome(chromedriver_path + 'chromedriver')\n"
     ]
    }
   ],
   "source": [
    "rand_new_org_username = generate_random_string(10)\n",
    "rand_new_org_total_users = random.randint(3, 20)\n",
    "rand_new_org_concurrent_users = random.randint(1, rand_new_org_total_users)\n",
    "\n",
    "def test_vxr_portal_new_org_creation_and_display():\n",
    "    global total_num_tests, vxr_username, vxr_password, \\\n",
    "        rand_new_org_username, rand_new_org_total_users, rand_new_org_concurrent_users\n",
    "    total_num_tests += 1\n",
    "    test_pass = False\n",
    "    logged_in = False\n",
    "\n",
    "    # navigate to the website\n",
    "    driver = make_driver()\n",
    "    if login_vxr(driver):\n",
    "        logged_in = True\n",
    "\n",
    "    if logged_in:\n",
    "\n",
    "        # find the HTML element and click it\n",
    "        try:\n",
    "            element = driver.find_element(By.XPATH, '//button[@class=\"btn\" and contains(text(), \"New Organization\")]')\n",
    "            element.click()\n",
    "        except:\n",
    "            print('element not found')\n",
    "\n",
    "        # check if the page has loaded successfully\n",
    "        if driver.current_url == base_url + 'organizations/add':\n",
    "\n",
    "            # Find and type 'name' in the 'Organization Name' field\n",
    "            org_name_field = driver.find_element(By.NAME, \"orgname\")\n",
    "            org_name_field.send_keys(rand_new_org_username)\n",
    "\n",
    "            # Find and type '2' in the 'Concurrent Users' field\n",
    "            concurrent_users_field = driver.find_element(By.NAME, \"concurrent_users\")\n",
    "            concurrent_users_field.send_keys(rand_new_org_concurrent_users)\n",
    "\n",
    "            # Find and type '3' in the 'Total Users' field\n",
    "            total_users_field = driver.find_element(By.NAME, \"total_users\")\n",
    "            total_users_field.send_keys(rand_new_org_total_users)\n",
    "\n",
    "            # Find the submit button and click it\n",
    "            try:\n",
    "                element = driver.find_element(By.XPATH, '//button[@class=\"btn\" and contains(text(), \"Submit\")]')\n",
    "                element.click()\n",
    "            except:\n",
    "                print('button not found')\n",
    "\n",
    "            time.sleep(1)\n",
    "\n",
    "            try:\n",
    "                driver.find_element(By.XPATH, \"//div[@class='submit_text']\")\n",
    "                test_pass = True\n",
    "            except:\n",
    "                print('Element not found after new org submission')\n",
    "\n",
    "    # close the browser window\n",
    "    driver.close()\n",
    "    return test_pass\n",
    "\n",
    "try:\n",
    "    if test_vxr_portal_new_org_creation_and_display():\n",
    "        total_pass_tests += 1\n",
    "    else:\n",
    "        failed_test_messages.append('test vxr portal new org adding has failed')\n",
    "except:\n",
    "    failed_test_messages.append('test vxr portal new org adding has failed')\n",
    "\n",
    "# after adding new org, displays 'new org added'\n"
   ]
  },
  {
   "cell_type": "code",
   "execution_count": 64,
   "metadata": {},
   "outputs": [
    {
     "name": "stderr",
     "output_type": "stream",
     "text": [
      "/var/folders/cc/yk8c4hlx755dh0mtknk66z1w0000gn/T/ipykernel_39219/908859199.py:13: DeprecationWarning: executable_path has been deprecated, please pass in a Service object\n",
      "  return webdriver.Chrome(chromedriver_path + 'chromedriver')\n"
     ]
    },
    {
     "name": "stdout",
     "output_type": "stream",
     "text": [
      "pass\n"
     ]
    }
   ],
   "source": [
    "def test_vxr_portal_view_org_routing():\n",
    "    global total_num_tests, vxr_username, vxr_password\n",
    "    total_num_tests += 1\n",
    "    test_pass = False\n",
    "    logged_in = False\n",
    "\n",
    "    # navigate to the website\n",
    "    driver = make_driver()\n",
    "    if login_vxr(driver):\n",
    "        logged_in = True\n",
    "\n",
    "    if logged_in:\n",
    "\n",
    "        # find the HTML element and click it\n",
    "        try:\n",
    "            element = driver.find_element(By.XPATH, '//button[@class=\"btn\" and contains(text(), \"View Organizations\")]')\n",
    "            element.click()\n",
    "        except:\n",
    "            print('element not found')\n",
    "\n",
    "        # check if the page has loaded successfully\n",
    "        if driver.current_url == base_url + 'organizations/get':\n",
    "            test_pass = True\n",
    "\n",
    "    # close the browser window\n",
    "    driver.close()\n",
    "    return test_pass\n",
    "\n",
    "try:\n",
    "    if test_vxr_portal_view_org_routing():\n",
    "        total_pass_tests += 1\n",
    "    else:\n",
    "        failed_test_messages.append('test vxr portal view org routing has failed')\n",
    "except:\n",
    "    failed_test_messages.append('test vxr portal view org routing has failed')"
   ]
  },
  {
   "cell_type": "code",
   "execution_count": 65,
   "metadata": {},
   "outputs": [
    {
     "name": "stderr",
     "output_type": "stream",
     "text": [
      "/var/folders/cc/yk8c4hlx755dh0mtknk66z1w0000gn/T/ipykernel_39219/908859199.py:13: DeprecationWarning: executable_path has been deprecated, please pass in a Service object\n",
      "  return webdriver.Chrome(chromedriver_path + 'chromedriver')\n"
     ]
    }
   ],
   "source": [
    "# check that added user is now in the view organizations\n",
    "def test_vxr_portal_view_new_org():\n",
    "    global total_num_tests, vxr_username, vxr_password, \\\n",
    "        rand_new_org_username, rand_new_org_concurrent_users, rand_new_org_total_users\n",
    "    total_num_tests += 1\n",
    "    test_pass = False\n",
    "    logged_in = False\n",
    "\n",
    "    # navigate to the website\n",
    "    driver = make_driver()\n",
    "    if login_vxr(driver):\n",
    "        logged_in = True\n",
    "\n",
    "    if logged_in:\n",
    "\n",
    "        # find the HTML element and click it\n",
    "        try:\n",
    "            element = driver.find_element(By.XPATH, '//button[@class=\"btn\" and contains(text(), \"View Organizations\")]')\n",
    "            element.click()\n",
    "        except:\n",
    "            print('element not found')\n",
    "\n",
    "        # check if the page has loaded successfully\n",
    "        if driver.current_url == base_url + 'organizations/get':\n",
    "            time.sleep(5)\n",
    "\n",
    "            # get the table element\n",
    "            try:\n",
    "                table = driver.find_element(By.XPATH, \"//table[@class='table_color']\")\n",
    "            except:\n",
    "                print('table not found')\n",
    "\n",
    "            # get all the rows in the table\n",
    "            try:\n",
    "                # rows = table.find_element(By.XPATH, \"//tr[@class='table_color']\")\n",
    "                cells = table.find_elements(By.CLASS_NAME, \"table_cell\")\n",
    "            except:\n",
    "                print('cells not found')\n",
    "\n",
    "            # iterate through cell and print data\n",
    "            rows = []\n",
    "            row = []\n",
    "            for i, cell in enumerate(cells):\n",
    "                if i%4 == 0:\n",
    "                    row = []\n",
    "                row.append(cell.text)\n",
    "                if i%4 == 3:\n",
    "                    rows.append(row)\n",
    "\n",
    "            for r in rows:\n",
    "                try:\n",
    "                    if r[0] == rand_new_org_username and int(r[1]) == rand_new_org_concurrent_users and \\\n",
    "                            int(r[2]) == rand_new_org_total_users and r[3] == '√':\n",
    "                        test_pass = True\n",
    "                except:\n",
    "                    pass\n",
    "                \n",
    "\n",
    "    # close the browser window\n",
    "    driver.close()\n",
    "    return test_pass\n",
    "\n",
    "try:\n",
    "    if test_vxr_portal_view_new_org():\n",
    "        total_pass_tests += 1\n",
    "    else:\n",
    "        failed_test_messages.append('test vxr portal view new org has failed')\n",
    "except:\n",
    "    failed_test_messages.append('test vxr portal view new org has failed')"
   ]
  },
  {
   "cell_type": "code",
   "execution_count": 78,
   "metadata": {},
   "outputs": [
    {
     "name": "stderr",
     "output_type": "stream",
     "text": [
      "/var/folders/cc/yk8c4hlx755dh0mtknk66z1w0000gn/T/ipykernel_39219/908859199.py:13: DeprecationWarning: executable_path has been deprecated, please pass in a Service object\n",
      "  return webdriver.Chrome(chromedriver_path + 'chromedriver')\n"
     ]
    },
    {
     "name": "stdout",
     "output_type": "stream",
     "text": [
      "pass\n"
     ]
    }
   ],
   "source": [
    "def test_vxr_portal_delete_org_routing():\n",
    "    global total_num_tests, vxr_username, vxr_password\n",
    "    total_num_tests += 1\n",
    "    test_pass = False\n",
    "    logged_in = False\n",
    "\n",
    "    # navigate to the website\n",
    "    driver = make_driver()\n",
    "    if login_vxr(driver):\n",
    "        logged_in = True\n",
    "\n",
    "    if logged_in:\n",
    "\n",
    "        # find the HTML element and click it\n",
    "        try:\n",
    "            element = driver.find_element(By.XPATH, '//button[@class=\"btn\" and contains(text(), \"Delete Organization\")]')\n",
    "            element.click()\n",
    "        except:\n",
    "            print('element not found')\n",
    "\n",
    "        # check if the page has loaded successfully\n",
    "        if driver.current_url == base_url + 'organizations/delete':\n",
    "            test_pass = True\n",
    "\n",
    "    # close the browser window\n",
    "    driver.close()\n",
    "    return test_pass\n",
    "\n",
    "try:\n",
    "    if test_vxr_portal_delete_org_routing():\n",
    "        total_pass_tests += 1\n",
    "    else:\n",
    "        failed_test_messages.append('test vxr portal delete org routing has failed')\n",
    "except:\n",
    "    failed_test_messages.append('test vxr portal delete org routing has failed')"
   ]
  },
  {
   "cell_type": "code",
   "execution_count": null,
   "metadata": {},
   "outputs": [],
   "source": [
    "# deleting organization"
   ]
  },
  {
   "cell_type": "code",
   "execution_count": 79,
   "metadata": {},
   "outputs": [
    {
     "name": "stderr",
     "output_type": "stream",
     "text": [
      "/var/folders/cc/yk8c4hlx755dh0mtknk66z1w0000gn/T/ipykernel_39219/908859199.py:13: DeprecationWarning: executable_path has been deprecated, please pass in a Service object\n",
      "  return webdriver.Chrome(chromedriver_path + 'chromedriver')\n"
     ]
    },
    {
     "name": "stdout",
     "output_type": "stream",
     "text": [
      "pass\n"
     ]
    }
   ],
   "source": [
    "def test_vxr_portal_update_org_routing():\n",
    "    global total_num_tests, vxr_username, vxr_password\n",
    "    total_num_tests += 1\n",
    "    test_pass = False\n",
    "    logged_in = False\n",
    "\n",
    "    # navigate to the website\n",
    "    driver = make_driver()\n",
    "    if login_vxr(driver):\n",
    "        logged_in = True\n",
    "\n",
    "    if logged_in:\n",
    "\n",
    "        # find the HTML element and click it\n",
    "        try:\n",
    "            element = driver.find_element(By.XPATH, '//button[@class=\"btn\" and contains(text(), \"Update Organizations\")]')\n",
    "            element.click()\n",
    "        except:\n",
    "            print('element not found')\n",
    "\n",
    "        # check if the page has loaded successfully\n",
    "        if driver.current_url == base_url + 'organizations/update':\n",
    "            test_pass = True\n",
    "\n",
    "    # close the browser window\n",
    "    driver.close()\n",
    "    return test_pass\n",
    "\n",
    "try:\n",
    "    if test_vxr_portal_update_org_routing():\n",
    "        total_pass_tests += 1\n",
    "    else:\n",
    "        failed_test_messages.append('test vxr portal update org routing has failed')\n",
    "except:\n",
    "    failed_test_messages.append('test vxr portal update org routing has failed')"
   ]
  },
  {
   "cell_type": "code",
   "execution_count": null,
   "metadata": {},
   "outputs": [],
   "source": [
    "# update organization"
   ]
  },
  {
   "cell_type": "code",
   "execution_count": 80,
   "metadata": {},
   "outputs": [
    {
     "name": "stderr",
     "output_type": "stream",
     "text": [
      "/var/folders/cc/yk8c4hlx755dh0mtknk66z1w0000gn/T/ipykernel_39219/908859199.py:13: DeprecationWarning: executable_path has been deprecated, please pass in a Service object\n",
      "  return webdriver.Chrome(chromedriver_path + 'chromedriver')\n"
     ]
    },
    {
     "name": "stdout",
     "output_type": "stream",
     "text": [
      "pass\n"
     ]
    }
   ],
   "source": [
    "def test_vxr_portal_approve_org_routing():\n",
    "    global total_num_tests, vxr_username, vxr_password\n",
    "    total_num_tests += 1\n",
    "    test_pass = False\n",
    "    logged_in = False\n",
    "\n",
    "    # navigate to the website\n",
    "    driver = make_driver()\n",
    "    if login_vxr(driver):\n",
    "        logged_in = True\n",
    "\n",
    "    if logged_in:\n",
    "\n",
    "        # find the HTML element and click it\n",
    "        try:\n",
    "            element = driver.find_element(By.XPATH, '//button[@class=\"btn\" and contains(text(), \"Approve Organizations\")]')\n",
    "            element.click()\n",
    "        except:\n",
    "            print('element not found')\n",
    "\n",
    "        # check if the page has loaded successfully\n",
    "        if driver.current_url == base_url + 'organizations/approve':\n",
    "            test_pass = True\n",
    "\n",
    "    # close the browser window\n",
    "    driver.close()\n",
    "    return test_pass\n",
    "\n",
    "try:\n",
    "    if test_vxr_portal_approve_org_routing():\n",
    "        total_pass_tests += 1\n",
    "    else:\n",
    "        failed_test_messages.append('test vxr portal approve org routing has failed')\n",
    "except:\n",
    "    failed_test_messages.append('test vxr portal approve org routing has failed')"
   ]
  },
  {
   "cell_type": "code",
   "execution_count": null,
   "metadata": {},
   "outputs": [],
   "source": [
    "# approving organization"
   ]
  },
  {
   "cell_type": "code",
   "execution_count": 70,
   "metadata": {},
   "outputs": [
    {
     "name": "stderr",
     "output_type": "stream",
     "text": [
      "/var/folders/cc/yk8c4hlx755dh0mtknk66z1w0000gn/T/ipykernel_39219/908859199.py:13: DeprecationWarning: executable_path has been deprecated, please pass in a Service object\n",
      "  return webdriver.Chrome(chromedriver_path + 'chromedriver')\n"
     ]
    }
   ],
   "source": [
    "org_username = 'iankang2013@gmail.com'\n",
    "org_password = 'Ian.kang123'\n",
    "\n",
    "def login_org(driver):\n",
    "    global org_username, org_password\n",
    "    driver.get(base_url + 'login')\n",
    "\n",
    "    # find the username and password fields and enter the respective values\n",
    "    username = driver.find_element(By.NAME, \"username\")\n",
    "    password = driver.find_element(By.NAME, \"pswd\")\n",
    "    submit_btn = driver.find_element(By.CLASS_NAME, \"btn\")\n",
    "\n",
    "    username.send_keys(org_username)\n",
    "    password.send_keys(org_password)\n",
    "\n",
    "    # click the submit button\n",
    "    submit_btn.click()\n",
    "\n",
    "    time.sleep(3)\n",
    "\n",
    "    # check if the page has loaded successfully\n",
    "    if driver.current_url == base_url + 'portal':\n",
    "        return True\n",
    "    return False\n",
    "\n",
    "def test_org_login_portal():\n",
    "    global total_num_tests, failed_test_messages, vxr_username, vxr_password\n",
    "    total_num_tests += 1\n",
    "    test_pass = False\n",
    "    logged_in = False\n",
    "\n",
    "    # navigate to the website\n",
    "    driver = make_driver()\n",
    "    if login_org(driver):\n",
    "        logged_in = True\n",
    "\n",
    "    if logged_in:\n",
    "\n",
    "        # Define the elements we hope to find\n",
    "        html_elements = ['Delete Organization', 'Update Organization', 'Invite User', 'View Users']\n",
    "        \n",
    "        # Check that all elements exist in the page\n",
    "        for element in html_elements:\n",
    "            try:\n",
    "                driver.find_element(By.XPATH, '//button[@class=\"btn\" and contains(text(), \"' + element + '\")]')\n",
    "            except:\n",
    "                print(f\"Element '{element}' not found!\")\n",
    "                break\n",
    "        else:\n",
    "            test_pass = True\n",
    "\n",
    "    # close the browser window\n",
    "    driver.close()\n",
    "    return test_pass\n",
    "\n",
    "try:\n",
    "    if test_org_login_portal():\n",
    "        total_pass_tests += 1\n",
    "    else:\n",
    "        failed_test_messages.append('test org login portal has failed')\n",
    "except:\n",
    "    failed_test_messages.append('test org login portal has failed')"
   ]
  },
  {
   "cell_type": "code",
   "execution_count": 71,
   "metadata": {},
   "outputs": [],
   "source": [
    "# all org functionality"
   ]
  },
  {
   "cell_type": "code",
   "execution_count": 72,
   "metadata": {},
   "outputs": [
    {
     "name": "stderr",
     "output_type": "stream",
     "text": [
      "/var/folders/cc/yk8c4hlx755dh0mtknk66z1w0000gn/T/ipykernel_39219/908859199.py:13: DeprecationWarning: executable_path has been deprecated, please pass in a Service object\n",
      "  return webdriver.Chrome(chromedriver_path + 'chromedriver')\n"
     ]
    }
   ],
   "source": [
    "# test logging in with user credentials makes the user portal appear\n",
    "user_username = 'wei.kang@ucalgary.ca'\n",
    "user_password = 'Wei.kang123'\n",
    "\n",
    "def login_user(driver):\n",
    "    global user_username, user_password\n",
    "    driver.get(base_url + 'login')\n",
    "\n",
    "    # find the username and password fields and enter the respective values\n",
    "    username = driver.find_element(By.NAME, \"username\")\n",
    "    password = driver.find_element(By.NAME, \"pswd\")\n",
    "    submit_btn = driver.find_element(By.CLASS_NAME, \"btn\")\n",
    "\n",
    "    username.send_keys(user_username)\n",
    "    password.send_keys(user_password)\n",
    "\n",
    "    # click the submit button\n",
    "    submit_btn.click()\n",
    "\n",
    "    time.sleep(3)\n",
    "\n",
    "    # check if the page has loaded successfully\n",
    "    if driver.current_url == base_url + 'portal':\n",
    "        return True\n",
    "    return False\n",
    "\n",
    "def test_user_login_portal():\n",
    "    global total_num_tests, failed_test_messages, vxr_username, vxr_password\n",
    "    total_num_tests += 1\n",
    "    test_pass = False\n",
    "    logged_in = False\n",
    "\n",
    "    # navigate to the website\n",
    "    driver = make_driver()\n",
    "    if login_user(driver):\n",
    "        logged_in = True\n",
    "\n",
    "    if logged_in:\n",
    "\n",
    "        # Define the elements we hope to find\n",
    "        html_elements = ['View Information', 'Change Password', 'VR Results']\n",
    "        \n",
    "        # Check that all elements exist in the page\n",
    "        for element in html_elements:\n",
    "            try:\n",
    "                driver.find_element(By.XPATH, '//button[@class=\"btn\" and contains(text(), \"' + element + '\")]')\n",
    "            except:\n",
    "                print(f\"Element '{element}' not found!\")\n",
    "                break\n",
    "        else:\n",
    "            test_pass = True\n",
    "\n",
    "    # close the browser window\n",
    "    driver.close()\n",
    "    return test_pass\n",
    "\n",
    "try:\n",
    "    if test_user_login_portal():\n",
    "        total_pass_tests += 1\n",
    "    else:\n",
    "        failed_test_messages.append('test user login portal has failed')\n",
    "except:\n",
    "    failed_test_messages.append('test user login portal has failed')"
   ]
  },
  {
   "cell_type": "code",
   "execution_count": 73,
   "metadata": {},
   "outputs": [],
   "source": [
    "# all user functionality"
   ]
  },
  {
   "cell_type": "code",
   "execution_count": 74,
   "metadata": {},
   "outputs": [],
   "source": [
    "# you cannot access all hidden urls if you are not logged in"
   ]
  },
  {
   "cell_type": "code",
   "execution_count": 75,
   "metadata": {},
   "outputs": [],
   "source": [
    "# you cannot access other urls if you don't have permission"
   ]
  },
  {
   "cell_type": "code",
   "execution_count": 76,
   "metadata": {},
   "outputs": [
    {
     "name": "stdout",
     "output_type": "stream",
     "text": [
      "Total tests:  28\n",
      "Pass tests:  27\n",
      "\n",
      "--------\n",
      "test default navigation has failed\n",
      "\n",
      "--------\n",
      "test project video playing is finicky depending on load time. Increasing wait time can \n",
      "help increase accuracy at the cost of a slower test run. If that one test fails, try \n",
      "re-running the isolated test.\n"
     ]
    }
   ],
   "source": [
    "print('Total tests: ', total_num_tests)\n",
    "print('Pass tests: ', total_pass_tests)\n",
    "\n",
    "print('\\n--------')\n",
    "for i in failed_test_messages:\n",
    "    print(i)\n",
    "\n",
    "print('\\n--------')\n",
    "print('test project video playing is finicky depending on load time. Increasing wait time can ' + \n",
    "      '\\nhelp increase accuracy at the cost of a slower test run. If that one test fails, try ' +\n",
    "      '\\nre-running the isolated test.')"
   ]
  },
  {
   "cell_type": "code",
   "execution_count": null,
   "metadata": {},
   "outputs": [],
   "source": []
  }
 ],
 "metadata": {
  "kernelspec": {
   "display_name": "Python 3",
   "language": "python",
   "name": "python3"
  },
  "language_info": {
   "codemirror_mode": {
    "name": "ipython",
    "version": 3
   },
   "file_extension": ".py",
   "mimetype": "text/x-python",
   "name": "python",
   "nbconvert_exporter": "python",
   "pygments_lexer": "ipython3",
   "version": "3.10.4"
  },
  "orig_nbformat": 4
 },
 "nbformat": 4,
 "nbformat_minor": 2
}
