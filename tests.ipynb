{
 "cells": [
  {
   "cell_type": "code",
   "execution_count": 15,
   "metadata": {},
   "outputs": [],
   "source": [
    "from selenium.webdriver.common.by import By\n",
    "from selenium import webdriver\n",
    "from selenium.webdriver.common.keys import Keys\n",
    "\n",
    "base_url = 'https://j3ttblack.github.io/vital-xr/'\n",
    "chromedriver_path = '../'\n",
    "\n",
    "def make_driver():\n",
    "    # specify the path of the chromedriver executable\n",
    "    return webdriver.Chrome(chromedriver_path + 'chromedriver')\n"
   ]
  },
  {
   "cell_type": "code",
   "execution_count": 16,
   "metadata": {},
   "outputs": [],
   "source": [
    "total_num_tests = 0\n",
    "total_pass_tests = 0"
   ]
  },
  {
   "cell_type": "code",
   "execution_count": 17,
   "metadata": {},
   "outputs": [
    {
     "name": "stderr",
     "output_type": "stream",
     "text": [
      "/var/folders/cc/yk8c4hlx755dh0mtknk66z1w0000gn/T/ipykernel_28152/3372935588.py:10: DeprecationWarning: executable_path has been deprecated, please pass in a Service object\n",
      "  return webdriver.Chrome(chromedriver_path + 'chromedriver')\n"
     ]
    }
   ],
   "source": [
    "def test_image_home_navigation():\n",
    "    global total_num_tests\n",
    "    total_num_tests += 1\n",
    "    test_pass = False\n",
    "\n",
    "    # navigate to the website\n",
    "    driver = make_driver()\n",
    "    driver.get(base_url)\n",
    "\n",
    "    # find the HTML element and click it\n",
    "    element = driver.find_element(By.XPATH, '//img[@class=\"home_img\"]')\n",
    "    element.click()\n",
    "\n",
    "    # check if the page has loaded successfully\n",
    "    if driver.current_url == base_url + 'home':\n",
    "        test_pass = True\n",
    "    else:\n",
    "        print('test image home navigation has failed')\n",
    "\n",
    "    # close the browser window\n",
    "    driver.close()\n",
    "    return test_pass\n",
    "\n",
    "try:\n",
    "    if test_image_home_navigation():\n",
    "        total_pass_tests += 1\n",
    "except:\n",
    "    pass\n"
   ]
  },
  {
   "cell_type": "code",
   "execution_count": null,
   "metadata": {},
   "outputs": [],
   "source": []
  },
  {
   "cell_type": "code",
   "execution_count": 18,
   "metadata": {},
   "outputs": [
    {
     "name": "stdout",
     "output_type": "stream",
     "text": [
      "Total tests:  1\n",
      "Pass tests:  1\n"
     ]
    }
   ],
   "source": [
    "print('Total tests: ', total_num_tests)\n",
    "print('Pass tests: ', total_pass_tests)"
   ]
  },
  {
   "cell_type": "code",
   "execution_count": null,
   "metadata": {},
   "outputs": [],
   "source": []
  }
 ],
 "metadata": {
  "kernelspec": {
   "display_name": "Python 3",
   "language": "python",
   "name": "python3"
  },
  "language_info": {
   "codemirror_mode": {
    "name": "ipython",
    "version": 3
   },
   "file_extension": ".py",
   "mimetype": "text/x-python",
   "name": "python",
   "nbconvert_exporter": "python",
   "pygments_lexer": "ipython3",
   "version": "3.10.4"
  },
  "orig_nbformat": 4
 },
 "nbformat": 4,
 "nbformat_minor": 2
}
